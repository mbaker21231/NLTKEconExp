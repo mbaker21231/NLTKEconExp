{
 "cells": [
  {
   "cell_type": "markdown",
   "metadata": {},
   "source": [
    "# Sidebar on dealing with online PDFs and other Formats\n",
    "\n",
    "As I was fooling around with Ricardo's Principles of Economics and Smith's Wealth of Nations, I found that restricting myself to only plain text files was a bit of a handicap. So: how hard is it to wrangle text in other formats? Also, now that I am starting to get this up and running, it has been great that Jonathan (Conning) has offered a few comments here and there. \n",
    "\n",
    "Good question. I started by checking out [this web site](https://www.binpress.com/tutorial/manipulating-pdfs-with-python/167). This put me on the scent of the PDFminer package. This package will not work, because it is written in Python 2. An active fork, however, can be found at [this site](https://pypi.python.org/pypi/pdfminer2). I ```pip install```ed this with no problem.\n",
    "\n",
    "Like almost all Python packages, there are some hiccups when it comes to actually getting them to work. Two that I encountered were that pdfminer requires cStringIO and chardet packages. (```pip install```ed them both)\n",
    "\n",
    "So, let's see how it works. First, I should mention that I tried using a wrapper for all of this called slate, but couldn't get this working. Instead, I fumbled around stackoverflow, and found some resources on how to work with the pdfminer. This question [is here](http://stackoverflow.com/questions/26494211/extracting-text-from-a-pdf-file-using-pdfminer-in-python). The code there took a little modifying, mainly because differences in how StringIO works these days, but here it is:"
   ]
  },
  {
   "cell_type": "code",
   "execution_count": 1,
   "metadata": {},
   "outputs": [],
   "source": [
    "from pdfminer.pdfinterp import PDFResourceManager, PDFPageInterpreter\n",
    "from pdfminer.converter import TextConverter\n",
    "from pdfminer.layout import LAParams\n",
    "from pdfminer.pdfpage import PDFPage\n",
    "from io import StringIO\n",
    "import os # Merely so we can easily get to the local document repository"
   ]
  },
  {
   "cell_type": "markdown",
   "metadata": {},
   "source": [
    "The next task is to write a little program (actually borrowed from stack exchange, and update it to work with the latest flavor of python. I'm deliberately avoiding putting comments in the code block so I can write it to a file. "
   ]
  },
  {
   "cell_type": "code",
   "execution_count": 2,
   "metadata": {},
   "outputs": [],
   "source": [
    "from pdfminer.pdfinterp import PDFResourceManager, PDFPageInterpreter\n",
    "from pdfminer.converter import TextConverter\n",
    "from pdfminer.layout import LAParams\n",
    "from pdfminer.pdfpage import PDFPage\n",
    "from io import StringIO\n",
    "import os # Merely so we can easily get to the local document repository\n",
    "\n",
    "def pdf2textConverter(path):\n",
    "    rsrcmgr = PDFResourceManager()\n",
    "    retstr = StringIO()\n",
    "    codec = 'utf-8'\n",
    "    laparams = LAParams()\n",
    "    device = TextConverter(rsrcmgr, retstr, codec=codec, laparams=laparams)\n",
    "    fp = open(path, 'rb')                                                       #Had to change this line as it had deprecated \"file\" command\n",
    "    interpreter = PDFPageInterpreter(rsrcmgr, device)\n",
    "    password = \"\"\n",
    "    maxpages = 0\n",
    "    caching = True\n",
    "    pagenos=set()\n",
    "\n",
    "    for page in PDFPage.get_pages(fp, pagenos, maxpages=maxpages, password=password,caching=caching, check_extractable=True):\n",
    "        interpreter.process_page(page)\n",
    "\n",
    "    text = retstr.getvalue()\n",
    "\n",
    "    fp.close()\n",
    "    device.close()\n",
    "    retstr.close()\n",
    "    return text"
   ]
  },
  {
   "cell_type": "markdown",
   "metadata": {},
   "source": [
    "Now that we have a reader set up, let's try and do some stuff with it. First, a nice html copy of Malthus's Principles of Political Economy can be found [at this site](http://lf-oll.s3.amazonaws.com/titles/2188/Malthus_1462_EBk_v6.0.pdf), and will serve as a bit of a test document. First, change the directory so that we have a dedicated location for whatever we are looking at. Note that we have included both ```.txt``` and ```.pdf``` files in the ```.gitignore``` file for this project, so that we don't use up too much storage. If anybody ever reads this, they will have to download them.  "
   ]
  },
  {
   "cell_type": "code",
   "execution_count": 3,
   "metadata": {},
   "outputs": [],
   "source": [
    "os.chdir('.\\\\Texts')"
   ]
  },
  {
   "cell_type": "code",
   "execution_count": 4,
   "metadata": {},
   "outputs": [
    {
     "data": {
      "text/plain": [
       "'C:\\\\Users\\\\mjbaker\\\\OneDrive - CUNY\\\\Documents\\\\github\\\\NLTKEconExp\\\\Texts'"
      ]
     },
     "execution_count": 4,
     "metadata": {},
     "output_type": "execute_result"
    }
   ],
   "source": [
    "os.getcwd()"
   ]
  },
  {
   "cell_type": "code",
   "execution_count": 5,
   "metadata": {},
   "outputs": [
    {
     "ename": "TypeError",
     "evalue": "TextConverter.__init__() got an unexpected keyword argument 'codec'",
     "output_type": "error",
     "traceback": [
      "\u001b[1;31m---------------------------------------------------------------------------\u001b[0m",
      "\u001b[1;31mTypeError\u001b[0m                                 Traceback (most recent call last)",
      "Cell \u001b[1;32mIn[5], line 1\u001b[0m\n\u001b[1;32m----> 1\u001b[0m MalthusPrinciples\u001b[38;5;241m=\u001b[39m\u001b[43mpdf2textConverter\u001b[49m\u001b[43m(\u001b[49m\u001b[38;5;124;43m'\u001b[39;49m\u001b[38;5;124;43mMalthusPrinciples.pdf\u001b[39;49m\u001b[38;5;124;43m'\u001b[39;49m\u001b[43m)\u001b[49m\n",
      "Cell \u001b[1;32mIn[2], line 13\u001b[0m, in \u001b[0;36mpdf2textConverter\u001b[1;34m(path)\u001b[0m\n\u001b[0;32m     11\u001b[0m codec \u001b[38;5;241m=\u001b[39m \u001b[38;5;124m'\u001b[39m\u001b[38;5;124mutf-8\u001b[39m\u001b[38;5;124m'\u001b[39m\n\u001b[0;32m     12\u001b[0m laparams \u001b[38;5;241m=\u001b[39m LAParams()\n\u001b[1;32m---> 13\u001b[0m device \u001b[38;5;241m=\u001b[39m \u001b[43mTextConverter\u001b[49m\u001b[43m(\u001b[49m\u001b[43mrsrcmgr\u001b[49m\u001b[43m,\u001b[49m\u001b[43m \u001b[49m\u001b[43mretstr\u001b[49m\u001b[43m,\u001b[49m\u001b[43m \u001b[49m\u001b[43mcodec\u001b[49m\u001b[38;5;241;43m=\u001b[39;49m\u001b[43mcodec\u001b[49m\u001b[43m,\u001b[49m\u001b[43m \u001b[49m\u001b[43mlaparams\u001b[49m\u001b[38;5;241;43m=\u001b[39;49m\u001b[43mlaparams\u001b[49m\u001b[43m)\u001b[49m\n\u001b[0;32m     14\u001b[0m fp \u001b[38;5;241m=\u001b[39m \u001b[38;5;28mopen\u001b[39m(path, \u001b[38;5;124m'\u001b[39m\u001b[38;5;124mrb\u001b[39m\u001b[38;5;124m'\u001b[39m)                                                       \u001b[38;5;66;03m#Had to change this line as it had deprecated \"file\" command\u001b[39;00m\n\u001b[0;32m     15\u001b[0m interpreter \u001b[38;5;241m=\u001b[39m PDFPageInterpreter(rsrcmgr, device)\n",
      "\u001b[1;31mTypeError\u001b[0m: TextConverter.__init__() got an unexpected keyword argument 'codec'"
     ]
    }
   ],
   "source": [
    "MalthusPrinciples=pdf2textConverter('MalthusPrinciples.pdf')"
   ]
  },
  {
   "cell_type": "code",
   "execution_count": 6,
   "metadata": {},
   "outputs": [
    {
     "name": "stdout",
     "output_type": "stream",
     "text": [
      "Help on class TextConverter in module pdfminer.converter:\n",
      "\n",
      "class TextConverter(PDFConverter)\n",
      " |  TextConverter(rsrcmgr, outfp, pageno=1, laparams=None, showpageno=False, imagewriter=None)\n",
      " |  \n",
      " |  ##  TextConverter\n",
      " |  ##\n",
      " |  \n",
      " |  Method resolution order:\n",
      " |      TextConverter\n",
      " |      PDFConverter\n",
      " |      PDFLayoutAnalyzer\n",
      " |      pdfminer.pdfdevice.PDFTextDevice\n",
      " |      pdfminer.pdfdevice.PDFDevice\n",
      " |      builtins.object\n",
      " |  \n",
      " |  Methods defined here:\n",
      " |  \n",
      " |  __init__(self, rsrcmgr, outfp, pageno=1, laparams=None, showpageno=False, imagewriter=None)\n",
      " |      Initialize self.  See help(type(self)) for accurate signature.\n",
      " |  \n",
      " |  paint_path(self, gstate, stroke, fill, evenodd, path)\n",
      " |  \n",
      " |  receive_layout(self, ltpage)\n",
      " |  \n",
      " |  render_image(self, name, stream)\n",
      " |      # Some dummy functions to save memory/CPU when all that is wanted\n",
      " |      # is text.  This stops all the image and drawing output from being\n",
      " |      # recorded and taking up RAM.\n",
      " |  \n",
      " |  write_text(self, text)\n",
      " |  \n",
      " |  ----------------------------------------------------------------------\n",
      " |  Methods inherited from PDFLayoutAnalyzer:\n",
      " |  \n",
      " |  begin_figure(self, name, bbox, matrix)\n",
      " |  \n",
      " |  begin_page(self, page, ctm)\n",
      " |  \n",
      " |  end_figure(self, _)\n",
      " |  \n",
      " |  end_page(self, page)\n",
      " |  \n",
      " |  handle_undefined_char(self, font, cid)\n",
      " |  \n",
      " |  render_char(self, matrix, font, fontsize, scaling, rise, cid)\n",
      " |  \n",
      " |  ----------------------------------------------------------------------\n",
      " |  Methods inherited from pdfminer.pdfdevice.PDFTextDevice:\n",
      " |  \n",
      " |  render_string(self, textstate, seq)\n",
      " |  \n",
      " |  render_string_horizontal(self, seq, matrix, pos, font, fontsize, scaling, charspace, wordspace, rise, dxscale)\n",
      " |  \n",
      " |  render_string_vertical(self, seq, matrix, pos, font, fontsize, scaling, charspace, wordspace, rise, dxscale)\n",
      " |  \n",
      " |  ----------------------------------------------------------------------\n",
      " |  Methods inherited from pdfminer.pdfdevice.PDFDevice:\n",
      " |  \n",
      " |  __repr__(self)\n",
      " |      Return repr(self).\n",
      " |  \n",
      " |  begin_tag(self, tag, props=None)\n",
      " |  \n",
      " |  close(self)\n",
      " |  \n",
      " |  do_tag(self, tag, props=None)\n",
      " |  \n",
      " |  end_tag(self)\n",
      " |  \n",
      " |  set_ctm(self, ctm)\n",
      " |  \n",
      " |  ----------------------------------------------------------------------\n",
      " |  Data descriptors inherited from pdfminer.pdfdevice.PDFDevice:\n",
      " |  \n",
      " |  __dict__\n",
      " |      dictionary for instance variables (if defined)\n",
      " |  \n",
      " |  __weakref__\n",
      " |      list of weak references to the object (if defined)\n",
      "\n"
     ]
    }
   ],
   "source": [
    "help(TextConverter)"
   ]
  },
  {
   "cell_type": "code",
   "execution_count": 24,
   "metadata": {},
   "outputs": [
    {
     "name": "stdout",
     "output_type": "stream",
     "text": [
      "The Online Library of Liberty\n",
      "A Project Of Liberty Fund, Inc.\n",
      "\n",
      "Thomas Robert Malthus, Principles of Political\n",
      "Economy [1836]\n",
      "\n",
      "The Online Library Of Liberty\n",
      "\n",
      "This E-Book (PDF format) is published by Liberty Fund, Inc., a private,\n",
      "non-profit, educational foundation established in 1960 to encourage study of the ideal\n",
      "of a society of free and responsible individuals. 2010 was the 50th anniversary year of\n",
      "the founding of Liberty Fund.\n",
      "\n",
      "It is part of the Online Library of Liberty web site http://oll.libertyfund.org, which\n",
      "was established in 2004 in order to further the educational goals of Liberty Fund, Inc.\n",
      "To find out more about the author or title, to use the site's powerful search engine, to\n",
      "see other titles in other formats (HTML, facsimile PDF), or to make use of the\n",
      "hundreds of essays, educational aids, and study guides, please visit the OLL web site.\n",
      "This title is also part of the Portable Library of Liberty DVD which contains over\n",
      "1,000 books and quotes about liberty and power, and \n"
     ]
    }
   ],
   "source": [
    "print(MalthusPrinciples[:1000])"
   ]
  },
  {
   "cell_type": "markdown",
   "metadata": {},
   "source": [
    "Absolutely Gorgeous! Since this is accomplished, let's turn to the job of creating a corpus of a few classics and comparing them. We will tackle this job in [this notebook](EconCorpus.ipynb)."
   ]
  }
 ],
 "metadata": {
  "kernelspec": {
   "display_name": "Python 3 (ipykernel)",
   "language": "python",
   "name": "python3"
  },
  "language_info": {
   "codemirror_mode": {
    "name": "ipython",
    "version": 3
   },
   "file_extension": ".py",
   "mimetype": "text/x-python",
   "name": "python",
   "nbconvert_exporter": "python",
   "pygments_lexer": "ipython3",
   "version": "3.11.6"
  }
 },
 "nbformat": 4,
 "nbformat_minor": 4
}
