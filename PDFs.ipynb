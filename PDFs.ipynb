{
 "cells": [
  {
   "cell_type": "markdown",
   "metadata": {},
   "source": [
    "# Sidebar on dealing with online PDFs and other Formats\n",
    "\n",
    "As I was fooling around with Ricardo's Principles of Economics and Smith's Wealth of Nations, I found that restricting myself to only plain text files was a bit of a handicap. So: how hard is it to wrangle text in other formats? Also, now that I am starting to get this up and running, it has been great that Jonathan (Conning) has offered a few comments here and there. \n",
    "\n",
    "Good question. I started by checking out [this web site](https://www.binpress.com/tutorial/manipulating-pdfs-with-python/167). This put me on the scent of the PDFminer package. This package will not work, because it is written in Python 2. An active fork, however, can be found at [this site](https://pypi.python.org/pypi/pdfminer2). I ```pip install```ed this with no problem.\n",
    "\n",
    "Like almost all Python packages, there are some hiccups when it comes to actually getting them to work. Two that I encountered were that pdfminer requires cStringIO and chardet packages. (```pip install```ed them both)\n",
    "\n",
    "So, let's see how it works. First, I should mention that I tried using a wrapper for all of this called slate, but couldn't get this working. Instead, I fumbled around stackoverflow, and found some resources on how to work with the pdfminer. This question [is here](http://stackoverflow.com/questions/26494211/extracting-text-from-a-pdf-file-using-pdfminer-in-python). The code there took a little modifying, mainly because differences in how StringIO works these days, but here it is:"
   ]
  },
  {
   "cell_type": "code",
   "execution_count": 1,
   "metadata": {
    "collapsed": false
   },
   "outputs": [],
   "source": [
    "from pdfminer.pdfinterp import PDFResourceManager, PDFPageInterpreter\n",
    "from pdfminer.converter import TextConverter\n",
    "from pdfminer.layout import LAParams\n",
    "from pdfminer.pdfpage import PDFPage\n",
    "from io import StringIO\n",
    "import os # Merely so we can easily get to the local document repository"
   ]
  },
  {
   "cell_type": "markdown",
   "metadata": {},
   "source": [
    "The next task is to write a little program (actually borrowed from stack exchange, and update it to work with the latest flavor of python. I'm deliberately avoiding putting comments in the code block so I can write it to a file. "
   ]
  },
  {
   "cell_type": "code",
   "execution_count": 25,
   "metadata": {
    "collapsed": false
   },
   "outputs": [
    {
     "name": "stdout",
     "output_type": "stream",
     "text": [
      "Writing pdf2textConverter.py\n"
     ]
    }
   ],
   "source": [
    "%%writefile pdf2textConverter.py\n",
    "from pdfminer.pdfinterp import PDFResourceManager, PDFPageInterpreter\n",
    "from pdfminer.converter import TextConverter\n",
    "from pdfminer.layout import LAParams\n",
    "from pdfminer.pdfpage import PDFPage\n",
    "from io import StringIO\n",
    "import os # Merely so we can easily get to the local document repository\n",
    "\n",
    "def pdf2textConverter(path):\n",
    "    rsrcmgr = PDFResourceManager()\n",
    "    retstr = StringIO()\n",
    "    codec = 'utf-8'\n",
    "    laparams = LAParams()\n",
    "    device = TextConverter(rsrcmgr, retstr, codec=codec, laparams=laparams)\n",
    "    fp = open(path, 'rb')                                                       #Had to change this line as it had deprecated \"file\" command\n",
    "    interpreter = PDFPageInterpreter(rsrcmgr, device)\n",
    "    password = \"\"\n",
    "    maxpages = 0\n",
    "    caching = True\n",
    "    pagenos=set()\n",
    "\n",
    "    for page in PDFPage.get_pages(fp, pagenos, maxpages=maxpages, password=password,caching=caching, check_extractable=True):\n",
    "        interpreter.process_page(page)\n",
    "\n",
    "    text = retstr.getvalue()\n",
    "\n",
    "    fp.close()\n",
    "    device.close()\n",
    "    retstr.close()\n",
    "    return text"
   ]
  },
  {
   "cell_type": "markdown",
   "metadata": {},
   "source": [
    "Now that we have a reader set up, let's try and do some stuff with it. First, a nice html copy of Malthus's Principles of Political Economy can be found [at this site](http://lf-oll.s3.amazonaws.com/titles/2188/Malthus_1462_EBk_v6.0.pdf), and will serve as a bit of a test document. First, change the directory so that we have a dedicated location for whatever we are looking at. Note that we have included both ```.txt``` and ```.pdf``` files in the ```.gitignore``` file for this project, so that we don't use up too much storage. If anybody ever reads this, they will have to download them.  "
   ]
  },
  {
   "cell_type": "code",
   "execution_count": 19,
   "metadata": {
    "collapsed": false
   },
   "outputs": [],
   "source": [
    "os.chdir('.\\\\Texts')"
   ]
  },
  {
   "cell_type": "code",
   "execution_count": 20,
   "metadata": {
    "collapsed": false
   },
   "outputs": [
    {
     "data": {
      "text/plain": [
       "'C:\\\\Users\\\\mjbaker\\\\Documents\\\\GitHub\\\\NLTKStuff\\\\NLTKEconExp\\\\Texts'"
      ]
     },
     "execution_count": 20,
     "metadata": {},
     "output_type": "execute_result"
    }
   ],
   "source": [
    "os.getcwd()"
   ]
  },
  {
   "cell_type": "code",
   "execution_count": 23,
   "metadata": {
    "collapsed": false
   },
   "outputs": [],
   "source": [
    "MalthusPrinciples=pdf2textConverter('MalthusPrinciples.pdf')"
   ]
  },
  {
   "cell_type": "code",
   "execution_count": 24,
   "metadata": {
    "collapsed": false
   },
   "outputs": [
    {
     "name": "stdout",
     "output_type": "stream",
     "text": [
      "The Online Library of Liberty\n",
      "A Project Of Liberty Fund, Inc.\n",
      "\n",
      "Thomas Robert Malthus, Principles of Political\n",
      "Economy [1836]\n",
      "\n",
      "The Online Library Of Liberty\n",
      "\n",
      "This E-Book (PDF format) is published by Liberty Fund, Inc., a private,\n",
      "non-profit, educational foundation established in 1960 to encourage study of the ideal\n",
      "of a society of free and responsible individuals. 2010 was the 50th anniversary year of\n",
      "the founding of Liberty Fund.\n",
      "\n",
      "It is part of the Online Library of Liberty web site http://oll.libertyfund.org, which\n",
      "was established in 2004 in order to further the educational goals of Liberty Fund, Inc.\n",
      "To find out more about the author or title, to use the site's powerful search engine, to\n",
      "see other titles in other formats (HTML, facsimile PDF), or to make use of the\n",
      "hundreds of essays, educational aids, and study guides, please visit the OLL web site.\n",
      "This title is also part of the Portable Library of Liberty DVD which contains over\n",
      "1,000 books and quotes about liberty and power, and \n"
     ]
    }
   ],
   "source": [
    "print(MalthusPrinciples[:1000])"
   ]
  },
  {
   "cell_type": "markdown",
   "metadata": {},
   "source": [
    "Absolutely Gorgeous! Since this is accomplished, let's turn to the job of creating a corpus of a few classics and comparing them. We will tackle this job in [this notebook](EconCorpus.ipynb)."
   ]
  }
 ],
 "metadata": {
  "kernelspec": {
   "display_name": "Python 3",
   "language": "python",
   "name": "python3"
  },
  "language_info": {
   "codemirror_mode": {
    "name": "ipython",
    "version": 3
   },
   "file_extension": ".py",
   "mimetype": "text/x-python",
   "name": "python",
   "nbconvert_exporter": "python",
   "pygments_lexer": "ipython3",
   "version": "3.5.1"
  }
 },
 "nbformat": 4,
 "nbformat_minor": 0
}
