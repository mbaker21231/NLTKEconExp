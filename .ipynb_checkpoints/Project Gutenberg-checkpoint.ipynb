{
 "cells": [
  {
   "cell_type": "markdown",
   "metadata": {},
   "source": [
    "# Project Gutenberg \n",
    "\n",
    "Just fooling around with a data source...\n",
    "\n",
    "There isn't too much interesting about all of this; project gutenberg really only has two functions, and really just allows download of one. I'm going to take a look at the texts and see what happens when we get moving here. We should, in principle, be able to get all the texts we need from the same source. "
   ]
  },
  {
   "cell_type": "code",
   "execution_count": 1,
   "metadata": {},
   "outputs": [],
   "source": [
    "from gutenberg.acquire import load_etext\n",
    "from gutenberg.cleanup import strip_headers"
   ]
  },
  {
   "cell_type": "markdown",
   "metadata": {},
   "source": [
    "List of texts with gutenberg number:"
   ]
  },
  {
   "cell_type": "code",
   "execution_count": null,
   "metadata": {},
   "outputs": [],
   "source": [
    "gutenberg_list = [['Adam Smith', 'Wealth of Nations', 38194],\n",
    "            ['John Haslam', 'Paper Currency of England', 55120],\n",
    "            ['Frederic Bastiat', 'Harmonies of Political Economy', 45002],\n",
    "            ['Stanley Jevons', 'Political Economy', 33219],\n",
    "            \n",
    "            "
   ]
  },
  {
   "cell_type": "code",
   "execution_count": 5,
   "metadata": {},
   "outputs": [],
   "source": [
    "text = strip_headers(load_etext(38194)).strip()"
   ]
  },
  {
   "cell_type": "code",
   "execution_count": 4,
   "metadata": {},
   "outputs": [],
   "source": [
    "import gutenberg as gut"
   ]
  },
  {
   "cell_type": "code",
   "execution_count": 8,
   "metadata": {},
   "outputs": [
    {
     "data": {
      "text/plain": [
       "'Team at http://www.pgdp.net (This book was produced from\\r\\nscanned images of public domain material from the Google\\r\\nPrint project.)\\r\\n\\r\\n\\r\\n\\r\\n\\r\\n\\r\\n\\r\\n\\r\\n\\r\\n  HARVARD COLLEGE LIBRARY\\r\\n\\r\\n\\r\\n\\r\\n  AN\\r\\n  INQUIRY INTO THE NATURE AND CAUSES\\r\\n  OF THE\\r\\n  WEALTH OF NATIONS.\\r\\n\\r\\n  BY\\r\\n  ADAM SMITH LL.D. F.R.S.\\r\\n  WITH A LIFE OF THE AUTHOR.\\r\\n\\r\\n  ALSO,\\r\\n\\r\\n  A VIEW OF THE DOCTRINE OF SMITH, COMPARED WITH THAT OF THE FRENCH\\r\\n  ECONOMISTS; WITH A METHOD OF FACILITATING THE STUDY OF HIS WORKS;\\r\\n  FROM THE FRENCH OF M. GARNIER.\\r\\n\\r\\n  COMPLETE IN ONE VOLUME\\r\\n\\r\\n  London:\\r\\n  T. NELSON AND SONS, PATERNOSTER ROW;\\r\\n  AND EDINBURGH.\\r\\n  MDCCCLII.\\r\\n\\r\\n\\r\\n\\r\\n  CONTENTS\\r\\n\\r\\n\\r\\n                                                                  _Page_\\r\\n  Life of the Author                                                   i\\r\\n\\r\\n  Short View of the Doctrine of Smith, compared with that of\\r\\n  the French Economists                                             xvii\\r\\n\\r\\n  Introduction                                                         1\\r\\n\\r\\n\\r\\nBOOK I.\\r\\n\\r\\nOF THE CAUSES OF IMPROVEMENT IN THE PRODUCTIVE POWERS OF LABOUR, AND OF\\r\\nTHE ORDER ACCORDING TO WHICH ITS PRODUCE IS NATURALLY DISTRIBUTED AMONG\\r\\nTHE DIFFERENT RANKS OF THE PEOPLE.\\r\\n\\r\\n  CHAP. I.\\r\\n\\r\\n  Of the Division of Labour                                            2\\r\\n\\r\\n  CHAP. II.\\r\\n\\r\\n  Of the Principle which gives occasion to the Division of Labour      6\\r\\n\\r\\n  CHAP. III.\\r\\n\\r\\n  That the Division of Labour is limited by the Extent of the Market   8\\r\\n\\r\\n  CHAP. IV.\\r\\n\\r\\n  Of the Origin and Use of Money                                       9\\r\\n\\r\\n  CHAP. V.\\r\\n\\r\\n  Of the real and nominal Price of Commodities, or of their Price\\r\\n  in Labour, and their Price in Money                                 12\\r\\n\\r\\n  CHAP. VI.\\r\\n\\r\\n  Of the Component Parts of the Price of Commodities                  20\\r\\n\\r\\n  CHAP. VII.\\r\\n\\r\\n  Of the Natural and Market Price of Commodities                      23\\r\\n\\r\\n  CHAP. VIII.\\r\\n\\r\\n  Of the Wages of Labour                                              27\\r\\n\\r\\n  CHAP. IX.\\r\\n\\r\\n  Of the Profits of Stock                                             36\\r\\n\\r\\n  CHAP. X.\\r\\n\\r\\n  Of Wages and Profit in the different Employments of Labour\\r\\n  and Stock                                                           41\\r\\n\\r\\n    PART I. Inequalities arising from the Nature of the\\r\\n    Employments themselves                                           ib.\\r\\n\\r\\n    PART II. Inequalities occasioned by the Policy of Europe          50\\r\\n\\r\\n  CHAP. XI.\\r\\n\\r\\n  Of the Rent of Land                                                 60\\r\\n\\r\\n    PART I. Of the Produce of Land which always affords Rent          61\\r\\n\\r\\n    PART II. Of the Produce of Land which sometimes does, and\\r\\n    sometimes does not, afford Rent                                   68\\r\\n\\r\\n    PART III. Of the Variations in the Proportion between the\\r\\n    respective Values of that sort of Produce which always\\r\\n    affords Rent, and of that which sometimes does, and\\r\\n    sometimes does not, afford Rent                                   74\\r\\n\\r\\n    Digression concerning the Variations in the Value of Silver\\r\\n    during the course of the four last centuries                     ib.\\r\\n      First Period                                                   ib.\\r\\n      Second Period                                                   81\\r\\n      Third Period                                                   ib.\\r\\n\\r\\n    Variations in the Proportion between the respective Values\\r\\n    of Gold and Silver                                                89\\r\\n\\r\\n    Grounds of the Suspicion that the Value of Silver still\\r\\n    continues to decrease                                             91\\r\\n\\r\\n    Different Effects of the Progress of Improvement upon the\\r\\n    real Price of three different sorts of rude Produce              ib.\\r\\n      First Sort                                                      92\\r\\n      Second Sort                                                    ib.\\r\\n      Third Sort                                                      97\\r\\n\\r\\n    Conclusion of the Digression concerning the Variations in\\r\\n    the Value of Silver                                              101\\r\\n\\r\\n    Effects of the Progress of Improvement upon the real Price\\r\\n    of Manufactures                                                  103\\r\\n\\r\\n    Conclusion of the Chapter                                        105\\r\\n\\r\\n\\r\\nBOOK II.\\r\\n\\r\\nOF THE NATURE, ACCUMULATION, AND EMPLOYMENT OF STOCK.\\r\\n\\r\\n  Introduction                                                       111\\r\\n\\r\\n  CHAP. I.\\r\\n\\r\\n  Of the Division of Stock                                           112\\r\\n\\r\\n  CHAP. II.\\r\\n\\r\\n  Of Money considered as a particular Branch of the general Stock\\r\\n  of the Society, or of the Expense of maintaining the National\\r\\n  Capital                                                            115\\r\\n\\r\\n  CHAP. III.\\r\\n\\r\\n  Of the Accumulation of Capital, or of productive and unproductive\\r\\n  Labour                                                             135\\r\\n\\r\\n  CHAP. IV.\\r\\n\\r\\n  Of Stock lent at Interest                                          144\\r\\n\\r\\n  CHAP. V.\\r\\n\\r\\n  Of the different Employment of Capitals                            147\\r\\n\\r\\n\\r\\nBOOK III.\\r\\n\\r\\nOF THE DIFFERENT PROGRESS OF OPULENCE IN DIFFERENT NATIONS.\\r\\n\\r\\n  CHAP. I.\\r\\n\\r\\n  Of the Natural Progress of Opulence                                155\\r\\n\\r\\n  CHAP. II.\\r\\n\\r\\n  Of the Discouragement of Agriculture in the ancient States of\\r\\n  Europe, after the fall of the Roman Empire                         157\\r\\n\\r\\n  CHAP. III.\\r\\n\\r\\n  Of the Rise and Progress of Cities and Towns, after the fall of\\r\\n  the Roman Empire                                                   162\\r\\n\\r\\n  CHAP. IV.\\r\\n\\r\\n  How the Commerce of the Towns contributed to the Improvement of\\r\\n  the Country                                                        167\\r\\n\\r\\n\\r\\nBOOK IV.\\r\\n\\r\\nOF THE SYSTEMS OF POLITICAL ECONOMY.\\r\\n\\r\\n  Introduction                                                       173\\r\\n\\r\\n  CHAP. I.\\r\\n\\r\\n  Of the Principle of the Commercial or Mercantile system            ib.\\r\\n\\r\\n  CHAP. II.\\r\\n\\r\\n  Of Restraints upon the Importation from Foreign Countries, of\\r\\n  such Goods as can be produced at Home                              183\\r\\n\\r\\n  CHAP. III.\\r\\n\\r\\n  Of the extraordinary Restraints upon the Importation of Goods of\\r\\n  almost all kinds, from those Countries with which the Balance\\r\\n  is supposed to be disadvantageous                                  192\\r\\n\\r\\n    PART I. Of the Unreasonableness of those Restraints, even upon\\r\\n    the Principles of the Commercial System                          ib.\\r\\n\\r\\n      Digression concerning Banks of Deposit, particularly\\r\\n      concerning that of Amsterdam                                   194\\r\\n\\r\\n    PART II. Of the Unreasonableness of these extraordinary\\r\\n    Restraints, upon other Principles                                199\\r\\n\\r\\n  CHAP. IV.\\r\\n\\r\\n  Of Drawbacks                                                       203\\r\\n\\r\\n  CHAP. V.\\r\\n\\r\\n  Of Bounties                                                        205\\r\\n\\r\\n  Digression concerning the Corn Trade and Corn Laws                 213\\r\\n\\r\\n  CHAP. VI.\\r\\n\\r\\n  Of Treaties of Commerce                                            222\\r\\n\\r\\n  CHAP. VII.\\r\\n\\r\\n  Of Colonies                                                        227\\r\\n\\r\\n    PART I. Of the Motives for establishing new Colonies             ib.\\r\\n\\r\\n    PART II. Causes of the Prosperity of new Colonies                231\\r\\n\\r\\n    PART III. Of the Advantages which Europe has derived from\\r\\n    the Discovery of America, and from that of a Passage to the\\r\\n    East Indies by the Cape of Good Hope                             243\\r\\n\\r\\n  CHAP. VIII.\\r\\n\\r\\n  Conclusion of the Mercantile System                                266\\r\\n\\r\\n  CHAP. IX.\\r\\n\\r\\n  Of the Agricultural Systems, or of those Systems of Political\\r\\n  Economy which represent the Produce of Land as either the sole\\r\\n  or the principal Source of the Revenue and Wealth of every\\r\\n  Country                                                            275\\r\\n\\r\\n  APPENDIX.\\r\\n\\r\\n  Account of Herring Busses fitted out in Scotland, the Amount of\\r\\n  the Cargoes and the Bounties on them                               287\\r\\n\\r\\n  Account of Foreign Salt imported into Scotland, and of Scotch\\r\\n  Salt delivered duty free, for the Herring Fishery                  288\\r\\n\\r\\n\\r\\nBOOK V.\\r\\n\\r\\nOF THE REVENUE OF THE SOVEREIGN OR COMMONWEALTH.\\r\\n\\r\\n  CHAP. I.\\r\\n\\r\\n  Of the Expenses of the Sovereign or Commonwealth                   289\\r\\n\\r\\n    PART I. Of the Expense of Defence                                ib.\\r\\n\\r\\n    PART II. Of the Expense of Justice                               297\\r\\n\\r\\n    PART III. Of the Expense of Public Works and Public\\r\\n    Institutions                                                     302\\r\\n\\r\\n      ART. I. Of the Public Works and Institutions for\\r\\n      facilitating the Commerce of Society.--1st, For\\r\\n      facilitating the general Commerce of the Society.--\\r\\n      2d, For facilitating particular Branches of Commerce           303\\r\\n\\r\\n      ART. II. Of the Expense of the Institutions for the\\r\\n      Education of Youth                                             318\\r\\n\\r\\n      ART. III. Of the Expense of the Institutions for the\\r\\n      Instruction of People of all Ages                              330\\r\\n\\r\\n  PART IV. Of the Expense of supporting the Dignity of the\\r\\n  Sovereign                                                          342\\r\\n\\r\\n  Conclusion of the Chapter                                          ib.\\r\\n\\r\\n  CHAP. II.\\r\\n\\r\\n  Of the Sources of the general or Public Revenue of the Society     343\\r\\n\\r\\n    PART I. Of the Funds or Sources of Revenue which may\\r\\n    particularly belong to the Sovereign or Commonwealth             ib.\\r\\n\\r\\n    PART II. Of Taxes                                                347\\r\\n\\r\\n      ART. I. Taxes upon rent; Taxes upon the Rent of Land           348\\r\\n\\r\\n      Taxes which are proportioned, not to the Rent, but to\\r\\n      the Produce of Land                                            352\\r\\n\\r\\n      Taxes up'"
      ]
     },
     "execution_count": 8,
     "metadata": {},
     "output_type": "execute_result"
    }
   ],
   "source": [
    "text[0:10000]"
   ]
  },
  {
   "cell_type": "code",
   "execution_count": null,
   "metadata": {},
   "outputs": [],
   "source": []
  }
 ],
 "metadata": {
  "kernelspec": {
   "display_name": "Python 3",
   "language": "python",
   "name": "python3"
  },
  "language_info": {
   "codemirror_mode": {
    "name": "ipython",
    "version": 3
   },
   "file_extension": ".py",
   "mimetype": "text/x-python",
   "name": "python",
   "nbconvert_exporter": "python",
   "pygments_lexer": "ipython3",
   "version": "3.7.3"
  }
 },
 "nbformat": 4,
 "nbformat_minor": 2
}
