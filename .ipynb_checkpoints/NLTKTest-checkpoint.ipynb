{
 "cells": [
  {
   "cell_type": "markdown",
   "metadata": {},
   "source": [
    "# Some experiments with NLTK\n",
    "\n",
    "Let's get the basics out of the way first. Here are some required packages:"
   ]
  },
  {
   "cell_type": "code",
   "execution_count": 39,
   "metadata": {
    "collapsed": false
   },
   "outputs": [],
   "source": [
    "import re\n",
    "import itertools\n",
    "import collections\n",
    "import nltk\n",
    "import urllib3\n",
    "import numpy as np\n",
    "from pylab import rcParams\n",
    "from nltk.corpus import stopwords\n",
    "from math import sqrt                 # Thanks to Jonathan for reminding me to include this!\n",
    "\n",
    "rcParams['figure.figsize'] = 10, 20\n",
    "%matplotlib inline"
   ]
  },
  {
   "cell_type": "markdown",
   "metadata": {},
   "source": [
    "Also, Jonathan (Conning) was gracious enough to take a look at the code and make comments. He noted that one first must ```pip install urllib3```, as it is not part of the Anaconda distribution. Also, the nltk corpus requires some additional resources, which can be obtained by doing ```nltk.download()```. He also noted a few other things that I tried to clear up, including how printing out the samples from the downloaded books goes. "
   ]
  },
  {
   "cell_type": "markdown",
   "metadata": {},
   "source": [
    "Before doing anything else, let's see if we can devise a way of making a self-referential dictionary of terms. That is, we want to restrict things only to those terms that appear in the list of books that we are considering. \n",
    "\n",
    "Let's look at a list of texts and compare them. Let's take the Wealth of Nations by Smith, Principles by Ricardo, Cantillon's Essays, Malthus's principles, and maybe Marx's Capital and Stueart's Principles as well.\n",
    "\n",
    "Since each is a bit idiosyncratic, we will have to read them in separately.  Also, we'll take our time doing this so that we can also just have a look at the texts as we move along. So:\n",
    "\n",
    "## Part One - Reading in Some Texts"
   ]
  },
  {
   "cell_type": "code",
   "execution_count": 2,
   "metadata": {
    "collapsed": false
   },
   "outputs": [],
   "source": [
    "# Wealth of Nations:\n",
    "SmithURL='http://www.gutenberg.org/cache/epub/3300/pg3300.txt'\n",
    "SmithHttp=urllib3.PoolManager()\n",
    "SmithRaw=SmithHttp.request('GET',SmithURL)"
   ]
  },
  {
   "cell_type": "code",
   "execution_count": 5,
   "metadata": {
    "collapsed": false
   },
   "outputs": [
    {
     "data": {
      "text/plain": [
       "b'\\xef\\xbb\\xbfThe Project Gutenberg EBook of An Inquiry into the Nature and Causes of\\r\\nthe Wealth of Nations, by Adam Smith\\r\\n\\r\\nThis eBook is for the use of anyone anywhere at no cost and with\\r\\nalmost no restrictions whatsoever.  You may copy it, give it away or\\r\\nre-use it under the terms of the Project Gutenberg License included\\r\\nwith this eBook or online at www.gutenberg.org\\r\\n\\r\\n\\r\\nTitle: An Inquiry into the Nature and Causes of the Wealth of Nations\\r\\n\\r\\nAuthor: Adam Smith\\r\\n\\r\\nPosting Date: February 28, 2009 [EBook #3300]\\r\\nRelease Date: April, 2002\\r\\n[Last updated: June 5, 2011]\\r\\n\\r\\nLanguage: English\\r\\n\\r\\n\\r\\n*** START OF THIS PROJECT GUTENBERG EBOOK NATURE AND CAUSES OF THE WEALTH OF NATIONS ***\\r\\n\\r\\n\\r\\n\\r\\n\\r\\nProduced by Colin Muir\\r\\n\\r\\n\\r\\n\\r\\n\\r\\n\\r\\nAN INQUIRY INTO THE NATURE AND CAUSES OF THE WEALTH OF NATIONS.\\r\\n\\r\\n\\r\\nBy Adam Smith\\r\\n\\r\\n\\r\\n\\r\\n\\r\\nINTRODUCTION AND PLAN OF THE WORK.\\r\\n\\r\\n\\r\\nThe annual labour of every nation is the fund which originally supplies\\r\\nit with all the necessaries and conveniencies of life which it ann'"
      ]
     },
     "execution_count": 5,
     "metadata": {},
     "output_type": "execute_result"
    }
   ],
   "source": [
    "#Print out the First 1000 characters \n",
    "SmithRaw.data[0:1000]"
   ]
  },
  {
   "cell_type": "code",
   "execution_count": 6,
   "metadata": {
    "collapsed": false
   },
   "outputs": [],
   "source": [
    "# Decode the data so we can work with it and get rid of the Gutenberg crap at the beginning and end...\n",
    "WealthOfNations=SmithRaw.data.decode()\n",
    "start=WealthOfNations.find(\"AN INQUIRY\")\n",
    "end=WealthOfNations.find(\"END OF THIS PROJECT GUTENBERG\")\n",
    "WealthOfNations=WealthOfNations[start:end]\n",
    "\n",
    "# Now see if we can tokenize it and otherwise pound it into shape! \n",
    "WealthOfNationsTokens=nltk.word_tokenize(WealthOfNations)\n",
    "WealthOfNationsText=nltk.Text(WealthOfNationsTokens)\n",
    "WealthOfNationsWords=[words.lower() for words in WealthOfNationsTokens]"
   ]
  },
  {
   "cell_type": "code",
   "execution_count": 8,
   "metadata": {
    "collapsed": false
   },
   "outputs": [
    {
     "name": "stdout",
     "output_type": "stream",
     "text": [
      "['an', 'inquiry', 'into', 'the', 'nature', 'and', 'causes', 'of', 'the', 'wealth', 'of', 'nations', '.', 'by', 'adam', 'smith', 'introduction', 'and', 'plan', 'of', 'the', 'work', '.', 'the', 'annual', 'labour', 'of', 'every', 'nation', 'is', 'the', 'fund', 'which', 'originally', 'supplies', 'it', 'with', 'all', 'the', 'necessaries', 'and', 'conveniencies', 'of', 'life', 'which', 'it', 'annually', 'consumes', ',', 'and', 'which', 'consist', 'always', 'either', 'in', 'the', 'immediate', 'produce', 'of', 'that', 'labour', ',', 'or', 'in', 'what', 'is', 'purchased', 'with', 'that', 'produce', 'from', 'other', 'nations', '.', 'according', ',', 'therefore', ',', 'as', 'this', 'produce', ',', 'or', 'what', 'is', 'purchased', 'with', 'it', ',', 'bears', 'a', 'greater', 'or', 'smaller', 'proportion', 'to', 'the', 'number', 'of', 'those']\n"
     ]
    }
   ],
   "source": [
    "# Here is what the list looks like - first 100 words\n",
    "print(WealthOfNationsWords[:100])"
   ]
  },
  {
   "cell_type": "code",
   "execution_count": 9,
   "metadata": {
    "collapsed": false,
    "scrolled": true
   },
   "outputs": [
    {
     "name": "stdout",
     "output_type": "stream",
     "text": [
      "Great Britain; greater part; per cent; ... ...; annual produce; good\n",
      "deal; East Indies; thousand pounds; rude produce; home market; much\n",
      "greater; foreign trade; one another; standing army; surplus produce;\n",
      "East India; greater quantity; productive labour; precious metals; take\n",
      "place\n"
     ]
    }
   ],
   "source": [
    "# A basic operation as a test...\n",
    "WealthOfNationsText.collocations()"
   ]
  },
  {
   "cell_type": "code",
   "execution_count": 10,
   "metadata": {
    "collapsed": false
   },
   "outputs": [
    {
     "data": {
      "image/png": "[encoded data removed]",
      "text/plain": [
       "<matplotlib.figure.Figure at 0x82d2b70>"
      ]
     },
     "metadata": {},
     "output_type": "display_data"
    }
   ],
   "source": [
    "# From the above, we can see that there might be something interesting, \n",
    "# but that there is also a bit of garbage, like the repeated periods.\n",
    "\n",
    "# What about some words that Smith seems to like? Where do they occur?\n",
    "WealthOfNationsText.dispersion_plot([\"opulence\",\"emoluments\",\"wages\",\"surplus\",\"corn\",\"natural\",\"stock\"])"
   ]
  },
  {
   "cell_type": "code",
   "execution_count": 11,
   "metadata": {
    "collapsed": false
   },
   "outputs": [
    {
     "name": "stdout",
     "output_type": "stream",
     "text": [
      "Displaying 25 of 32 matches:\n",
      "nce , notwithstanding the superior opulence and improvement of the latter coun\n",
      " the corn of England , though , in opulence and improvement , France is perhap\n",
      "-governed society , that universal opulence which extends itself to the lowest\n",
      " foresees and intends that general opulence to which it gives occasion . It is\n",
      "em all to have derived their great opulence from this inland navigation . All \n",
      " liberal in a society advancing to opulence , than in one that is standing sti\n",
      "of being a burden , is a source of opulence and prosperity to the parents . Th\n",
      "ever yet arrived at this degree of opulence . China seems to have been long st\n",
      "tained to a considerable degree of opulence , it is in itself necessarily slow\n",
      "to possess those decisive marks of opulence which nobody can possess but thems\n",
      "ler quantity than in times of more opulence and improvement . Silver must cert\n",
      "very different . Diminish the real opulence either of Holland or of the territ\n",
      "he value , as it rises in times of opulence and prosperity , so it sinks in ti\n",
      "d distress , and sinks in times of opulence and prosperity , which are always \n",
      "ey could not otherwise be times of opulence and prosperity . Corn is a necessa\n",
      " and national , as well as private opulence is originally derived , is frequen\n",
      "ed the progress of England towards opulence and improvement in almost all form\n",
      "ibute more to the growth of public opulence than others . The revenue of an in\n",
      "e favourable than the other to the opulence of an individual , so is it likewi\n",
      " the other to the growth of public opulence . CHAPTER IV . OF STOCK LENT AT IN\n",
      " has not arrived at that degree of opulence for which it seems naturally desti\n",
      "III . OF THE DIFFERENT PROGRESS OF OPULENCE IN DIFFERENT NATIONS CHAPTER I . O\n",
      "TER I . OF THE NATURAL PROGRESS OF OPULENCE . The great commerce of every civi\n",
      "able variations in the progress of opulence in different ages and nations . Th\n",
      "n may attain a very high degree of opulence , though the greater part of its e\n"
     ]
    }
   ],
   "source": [
    "# Here are some concordances, which I guess are fun to look at...\n",
    "WealthOfNationsText.concordance(\"opulence\")"
   ]
  },
  {
   "cell_type": "code",
   "execution_count": 12,
   "metadata": {
    "collapsed": false
   },
   "outputs": [
    {
     "name": "stdout",
     "output_type": "stream",
     "text": [
      "Displaying 18 of 18 matches:\n",
      "e natural price , and raise their emoluments , whether they consist in wages o\n",
      "g it in at four . These different emoluments amount to a good deal more than w\n",
      "nment , of which almost the whole emoluments were to be divided among people w\n",
      "dinary revenue , the whole of the emoluments which , except , perhaps , upon s\n",
      "as such presents , as long as the emoluments of justice , or what may be calle\n",
      "e been their share of the ancient emoluments of justice ; as the taxes more th\n",
      "hough accompanied with very small emoluments . The inferior office of justice \n",
      "ouble , and in most cases with no emoluments at all , is an object of ambition\n",
      "itute the far greater part of the emoluments of the judges . After all deducti\n",
      "e years , and of which the lawful emoluments , even during that term , are so \n",
      "s greatest with those to whom the emoluments of their profession are the only \n",
      "quently but a small part , of the emoluments of the teacher , of which the gre\n",
      "t his ease as he can ; and if his emoluments are to be precisely the same , wh\n",
      "public , or to have had any other emoluments , but what arose from the honorar\n",
      "keeps a certain proportion to the emoluments of inferior trades . A tax upon t\n",
      "d soon return to that level . The emoluments of offices are not , like those o\n",
      "s , rather more than enough . The emoluments of offices , therefore , can , in\n",
      "neral envy ; and a tax upon their emoluments , even though it should be somewh\n"
     ]
    }
   ],
   "source": [
    "WealthOfNationsText.concordance(\"emoluments\")"
   ]
  },
  {
   "cell_type": "code",
   "execution_count": 13,
   "metadata": {
    "collapsed": false
   },
   "outputs": [],
   "source": [
    "# Following a little online primer I found, we can define lexical diversity as follows...\n",
    "def VocabSize(text):\n",
    "    return len(set(text))\n",
    "def LexicalDiversity(text):\n",
    "    return VocabSize(text) / len(text)"
   ]
  },
  {
   "cell_type": "code",
   "execution_count": 14,
   "metadata": {
    "collapsed": false
   },
   "outputs": [
    {
     "name": "stdout",
     "output_type": "stream",
     "text": [
      "0.026948143556914425 11652\n"
     ]
    }
   ],
   "source": [
    "# The diversity of the Wealth of Nations is...\n",
    "print(LexicalDiversity(WealthOfNationsText),VocabSize(WealthOfNationsText))"
   ]
  },
  {
   "cell_type": "code",
   "execution_count": 15,
   "metadata": {
    "collapsed": false
   },
   "outputs": [
    {
     "name": "stdout",
     "output_type": "stream",
     "text": [
      "<FreqDist with 11652 samples and 432386 outcomes>\n"
     ]
    },
    {
     "data": {
      "text/plain": [
       "[(',', 35945),\n",
       " ('the', 29134),\n",
       " ('of', 24063),\n",
       " ('.', 11882),\n",
       " ('to', 11588),\n",
       " ('and', 10174),\n",
       " ('in', 8546),\n",
       " ('a', 6169),\n",
       " ('which', 4812),\n",
       " ('is', 4677),\n",
       " ('it', 4582),\n",
       " ('be', 3816),\n",
       " ('that', 3662),\n",
       " ('or', 3188),\n",
       " ('The', 2986)]"
      ]
     },
     "execution_count": 15,
     "metadata": {},
     "output_type": "execute_result"
    }
   ],
   "source": [
    "# A frequency distribution of words in the Wealth of Nations:\n",
    "fdist=nltk.FreqDist(WealthOfNationsText)\n",
    "print(fdist)\n",
    "fdist.most_common(15)"
   ]
  },
  {
   "cell_type": "markdown",
   "metadata": {},
   "source": [
    "Right off the bat, we see that this will pose a bit of a problem for text analysis - whenever we take a look at a text, we might want to get rid of these words, which is what the ```nltk.stopwords``` is for. "
   ]
  },
  {
   "cell_type": "code",
   "execution_count": 18,
   "metadata": {
    "collapsed": false
   },
   "outputs": [
    {
     "data": {
      "text/plain": [
       "['According',\n",
       " 'Africa',\n",
       " 'African',\n",
       " 'Almost',\n",
       " 'America',\n",
       " 'American',\n",
       " 'Americans',\n",
       " 'Amsterdam',\n",
       " 'Annibal',\n",
       " 'Athens',\n",
       " 'August',\n",
       " 'Average',\n",
       " 'Baltic',\n",
       " 'Before',\n",
       " 'Bengal',\n",
       " 'Besides',\n",
       " 'Between',\n",
       " 'Birmingham',\n",
       " 'Bounties',\n",
       " 'Bounty',\n",
       " 'Brazil',\n",
       " 'Brazils',\n",
       " 'Britain',\n",
       " 'British',\n",
       " 'CHAPTER',\n",
       " 'Calcutta',\n",
       " 'Canton',\n",
       " 'Charles',\n",
       " 'Chinese',\n",
       " 'Columbus',\n",
       " 'Columella',\n",
       " 'Commerce',\n",
       " 'December',\n",
       " 'Denmark',\n",
       " 'Different',\n",
       " 'Doctor',\n",
       " 'Domingo',\n",
       " 'Droits',\n",
       " 'During',\n",
       " 'Edinburgh',\n",
       " 'Edward',\n",
       " 'Egyptians',\n",
       " 'Elizabeth',\n",
       " 'England',\n",
       " 'English',\n",
       " 'Europe',\n",
       " 'European',\n",
       " 'Europeans',\n",
       " 'Except',\n",
       " 'Expense']"
      ]
     },
     "execution_count": 18,
     "metadata": {},
     "output_type": "execute_result"
    }
   ],
   "source": [
    "# Let's get rid of the short words and see what happens - perhaps we want to eventually develop a method that marks\n",
    "# words as \"filler\" and looks at words of substance - technical terms, names, etc. For now, let's just get rid of the\n",
    "# short words \n",
    "# Here is how we might select just longer word (note that the [:50] at the end just lists the first 50.\n",
    "sorted(w for w in set(WealthOfNationsText) if len(w) > 5 and fdist[w] > 5)[:50]"
   ]
  },
  {
   "cell_type": "code",
   "execution_count": 19,
   "metadata": {
    "collapsed": false
   },
   "outputs": [],
   "source": [
    "freq2=nltk.FreqDist(nltk.bigrams(WealthOfNationsText))  # Not really all that interesting\n",
    "freq3=nltk.FreqDist(w for w in WealthOfNationsTokens if len(w) > 5)"
   ]
  },
  {
   "cell_type": "code",
   "execution_count": 20,
   "metadata": {
    "collapsed": false
   },
   "outputs": [
    {
     "data": {
      "text/plain": [
       "[('country', 1229),\n",
       " ('greater', 1085),\n",
       " ('labour', 984),\n",
       " ('produce', 935),\n",
       " ('therefore', 874),\n",
       " ('different', 836),\n",
       " ('quantity', 796),\n",
       " ('people', 771),\n",
       " ('either', 734),\n",
       " ('revenue', 680),\n",
       " ('capital', 652),\n",
       " ('silver', 646),\n",
       " ('however', 582),\n",
       " ('though', 581),\n",
       " ('market', 574),\n",
       " ('countries', 571),\n",
       " ('always', 562),\n",
       " ('expense', 553),\n",
       " ('interest', 509),\n",
       " ('particular', 509),\n",
       " ('proportion', 479),\n",
       " ('foreign', 478),\n",
       " ('profit', 474),\n",
       " ('should', 472),\n",
       " ('employed', 459)]"
      ]
     },
     "execution_count": 20,
     "metadata": {},
     "output_type": "execute_result"
    }
   ],
   "source": [
    "freq3.most_common(25)"
   ]
  },
  {
   "cell_type": "code",
   "execution_count": 21,
   "metadata": {
    "collapsed": false
   },
   "outputs": [
    {
     "data": {
      "image/png": "[encoded data removed]",
      "text/plain": [
       "<matplotlib.figure.Figure at 0xdd06f98>"
      ]
     },
     "metadata": {},
     "output_type": "display_data"
    }
   ],
   "source": [
    "WealthOfNationsText.dispersion_plot([\"England\",\"Scotland\",\"France\",\"Germany\",\"Spain\",\"Holland\",\"Italy\",\"America\",\"Portugal\"])"
   ]
  },
  {
   "cell_type": "markdown",
   "metadata": {
    "collapsed": false
   },
   "source": [
    "I'm not sure how much further I can get with just good old Adam Smith! Let's see if we can find someone else - how about David Ricardo...or better yet - Cantillon or Quesnay! Let's try to stick with Project Gutenberg stuff and see what happens. "
   ]
  },
  {
   "cell_type": "code",
   "execution_count": 22,
   "metadata": {
    "collapsed": true
   },
   "outputs": [],
   "source": [
    "RicardoURL='http://www.gutenberg.org/cache/epub/33310/pg33310.txt'\n",
    "RicardoHttp=urllib3.PoolManager()\n",
    "RicardoRaw=RicardoHttp.request('GET',RicardoURL)"
   ]
  },
  {
   "cell_type": "code",
   "execution_count": 23,
   "metadata": {
    "collapsed": false
   },
   "outputs": [
    {
     "data": {
      "text/plain": [
       "b\"\\xef\\xbb\\xbfThe Project Gutenberg EBook of On The Principles of Political Economy, and\\r\\nTaxation, by David Ricardo\\r\\n\\r\\nThis eBook is for the use of anyone anywhere at no cost and with\\r\\nalmost no restrictions whatsoever.  You may copy it, give it away or\\r\\nre-use it under the terms of the Project Gutenberg License included\\r\\nwith this eBook or online at www.gutenberg.net\\r\\n\\r\\n\\r\\nTitle: On The Principles of Political Economy, and Taxation\\r\\n\\r\\nAuthor: David Ricardo\\r\\n\\r\\nRelease Date: July 31, 2010 [EBook #33310]\\r\\n[This file last updated January 20, 2011]\\r\\n\\r\\nLanguage: English\\r\\n\\r\\n\\r\\n*** START OF THIS PROJECT GUTENBERG EBOOK PRINCIPLES OF POLITICAL ECONOMY ***\\r\\n\\r\\n\\r\\n\\r\\n\\r\\nProduced by Fritz Ohrenschall, Turgut Dincer and the Online\\r\\nDistributed Proofreading Team at http://www.pgdp.net (This\\r\\nfile was produced from images generously made available\\r\\nby the Posner Memorial Collection\\r\\n(http://posner.library.cmu.edu/Posner/))\\r\\n\\r\\n\\r\\n\\r\\n\\r\\n\\r\\n\\r\\n  +---------------------------------------------------+\\r\\n  | Transcriber's note:\""
      ]
     },
     "execution_count": 23,
     "metadata": {},
     "output_type": "execute_result"
    }
   ],
   "source": [
    "RicardoRaw.data[:1000]"
   ]
  },
  {
   "cell_type": "code",
   "execution_count": 24,
   "metadata": {
    "collapsed": true
   },
   "outputs": [],
   "source": [
    "# Decode the data so we can work with it and get rid of the Gutenberg crap at the beginning and end...\n",
    "PrinciplesRicardo=RicardoRaw.data.decode()\n",
    "start=PrinciplesRicardo.find(\"THE PRINCIPLES\")\n",
    "end=PrinciplesRicardo.find(\"END OF THIS PROJECT GUTENBERG\")\n",
    "PrinciplesRicardo=PrinciplesRicardo[start:end]\n",
    "\n",
    "# Now see if we can tokenize it and otherwise pound it into shape! \n",
    "PrinciplesRicardoTokens=nltk.word_tokenize(PrinciplesRicardo)\n",
    "PrinciplesRicardoText=nltk.Text(PrinciplesRicardoTokens)\n",
    "PrinciplesRicardoWords=[words.lower() for words in PrinciplesRicardoTokens]"
   ]
  },
  {
   "cell_type": "code",
   "execution_count": 25,
   "metadata": {
    "collapsed": false
   },
   "outputs": [
    {
     "name": "stdout",
     "output_type": "stream",
     "text": [
      "raw produce; per cent; Adam Smith; per cent.; natural price; Mr.\n",
      "Malthus; precious metals; Mr. Buchanan; relative value; exchangeable\n",
      "value; per annum; Dr. Smith; per quarter; take place; market price;\n",
      "high price; foreign trade; greater quantity; would fall; paper money\n"
     ]
    }
   ],
   "source": [
    "# Do some of the same stuff we did for the Wealth of Nations.   \n",
    "PrinciplesRicardoText.collocations()"
   ]
  },
  {
   "cell_type": "code",
   "execution_count": 26,
   "metadata": {
    "collapsed": false
   },
   "outputs": [
    {
     "name": "stdout",
     "output_type": "stream",
     "text": [
      "Displaying 25 of 53 matches:\n",
      " profit , and wages . In 1815 , Mr. Malthus in his `` Inquiry into the Nature a\n",
      " Supply on Prices_ 542 XXIX . _Mr . Malthus 's Opinions on Rent_ 549 CHAPTER I \n",
      "y developed by the able hand of Mr. Malthus ; and every friend to the poor must\n",
      "the following able passage from Mr. Malthus 's work on population , which appea\n",
      "eir production . CHAPTER XXIX . MR. MALTHUS 'S OPINIONS ON RENT . Although the \n",
      "ence are the most indebted . Of Mr. Malthus 's Essay on Population , I am happy\n",
      " it is so eminent an ornament . Mr. Malthus too -- has satisfactorily explained\n",
      "ssage , quoted from his work by Mr. Malthus , I fully agree ; and therefore I m\n",
      "d therefore I must dissent from Mr. Malthus 's comment on them . `` In this vie\n",
      " and manufactured commodities , Mr. Malthus asks , `` Is it possible then , wit\n",
      "ing a rent . In another part of Mr. Malthus 's `` inquiry '' he observes , `` t\n",
      "ing of the high price of corn , Mr. Malthus evidently does not mean the price p\n",
      " excess is itself rent . Rent , Mr. Malthus has defined to be `` that portion o\n",
      "or , is money rent ; it is what Mr. Malthus means by `` the excess of price abo\n",
      "rst cause of the rise of rent , Mr. Malthus has the following observations : ``\n",
      " , that money rent depends . Is Mr. Malthus warranted in his inference , that b\n",
      "iminished rent ? If there are , Mr. Malthus 's proposition is much too universa\n",
      "with its diminished fertility . Mr. Malthus would undoubtedly be right , if , i\n",
      "se of rent being , as stated by Mr. Malthus in his third proposition , `` the c\n",
      " . It does not appear then that Mr. Malthus 's proposition is correct : rent do\n",
      "ce , and not to its abundance . Mr. Malthus says , that the `` cause of the exc\n",
      "cond cause of rent mentioned by Mr. Malthus , namely , `` that quality peculiar\n",
      "ice rose to the natural price . Mr. Malthus appears to me to be too much inclin\n",
      " general rate ? `` If , '' says Mr. Malthus , `` the necessaries of life , the \n",
      " or below this price ? Does not Mr. Malthus himself , state it never to be so ?\n"
     ]
    }
   ],
   "source": [
    "# Interesting...what about references to his buddy Malthus?\n",
    "PrinciplesRicardoText.concordance('Malthus')"
   ]
  },
  {
   "cell_type": "code",
   "execution_count": 27,
   "metadata": {
    "collapsed": false
   },
   "outputs": [
    {
     "name": "stdout",
     "output_type": "stream",
     "text": [
      "Displaying 25 of 152 matches:\n",
      "by the writings of Turgot , Stuart , Smith , Say , Sismondi , and others , they\n",
      "from the surface of the earth . Adam Smith , and the other able writers to whom\n",
      "ose passages in the writings of Adam Smith from which he sees reason to differ \n",
      "ciated and applied the principles of Smith , and who has done more than all oth\n",
      "uction_ 449 XXII . _Doctrine of Adam Smith concerning the Rent of Land_ 458 XXI\n",
      "VALUE . It has been observed by Adam Smith , that `` the word Value has two dif\n",
      " price of every thing , '' says Adam Smith , `` what every thing really costs t\n",
      "very diminution must lower it . Adam Smith , who so accurately defined the orig\n",
      " commodities compared with it . Adam Smith , after most ably shewing the insuff\n",
      "t then be correct , to say with Adam Smith , `` that as labour may sometimes _p\n",
      "- but it is correct to say , as Adam Smith had previously said , '' that the pr\n",
      "lth of Nations , '' that though Adam Smith fully recognized the principle , tha\n",
      "necessary to their production . Adam Smith , however , has no where analyzed th\n",
      "en in that early state to which Adam Smith refers , some capital , though possi\n",
      "tion of the labour of the engineer , smith , and carpenter , who erected the bu\n",
      "cure and preserve the produce . Adam Smith sometimes speaks of rent , in the st\n",
      "and ; but in the case stated by Adam Smith , the compensation was paid for the \n",
      "a component part of its price . Adam Smith , therefore , can not be correct in \n",
      "he dead to the living , '' says Adam Smith , `` fall finally , as well as immed\n",
      "neral , to which , according to Adam Smith , all taxes should conform . The fou\n",
      "contrary to the fourth maxim of Adam Smith , it would take out and keep out of \n",
      " . From the peculiar view which Adam Smith took of rent , from his not having o\n",
      "produce , and consequently that Adam Smith has taken an incorrect view of this \n",
      "iew of this important question . Dr. Smith 's view of this subject is probably \n",
      "ation . `` A land-tax , '' says Adam Smith , `` which like that of Great Britai\n"
     ]
    }
   ],
   "source": [
    "PrinciplesRicardoText.concordance('Smith')"
   ]
  },
  {
   "cell_type": "code",
   "execution_count": 28,
   "metadata": {
    "collapsed": false
   },
   "outputs": [
    {
     "name": "stdout",
     "output_type": "stream",
     "text": [
      "Ricardo Diversity and Length:  0.04330389363016094 5820\n",
      "Smith Diversity and length:    0.026948143556914425 11652\n"
     ]
    }
   ],
   "source": [
    "# As a preview before we start comparison, let's take a look at these two:\n",
    "print(\"Ricardo Diversity and Length: \",LexicalDiversity(PrinciplesRicardoText),\n",
    "      VocabSize(PrinciplesRicardoText))\n",
    "print(\"Smith Diversity and length:   \",LexicalDiversity(WealthOfNationsText),\n",
    "      VocabSize(WealthOfNationsText))"
   ]
  },
  {
   "cell_type": "markdown",
   "metadata": {},
   "source": [
    "# Moving on - comparison!\n",
    "\n",
    "Now that we have two texts, let's see where we can take it all in terms of comparison of texts. What are some basic tools for comparing the similarity of different texts? From just surfing around the web, I found a source <a href='http://stackoverflow.com/questions/8897593/similarity-between-two-text-documents'>here</a> on Stack Overflow - where else? - that gives some rough information about how to do this using the sklearn module. Evidently, what one would like to do is transform the documents into tf-idf vectors, whatever the hell those are. \n",
    "\n",
    "The basic idea is to tabulate how frequently words occur in each document, and then compare the resulting tabulations using some standard method - usually something like cosine_similarity. We might also do ngram similarity, but let's stick with cosine similarity for now. We have:"
   ]
  },
  {
   "cell_type": "code",
   "execution_count": 29,
   "metadata": {
    "collapsed": false
   },
   "outputs": [],
   "source": [
    "# Necessary functions for comparison once we have the two vectors\n",
    "# Note we had to treat the resulting long vectors with kid gloves, as they often \n",
    "# create numerical overflow problems. Accordingly, we use normalized vectors - divide each vector by its length\n",
    "\n",
    "def cosine_sim(u,v):\n",
    "    a=np.array(u)/len(u)\n",
    "    b=np.array(v)/len(v)\n",
    "    return np.dot(a,b) / (sqrt(np.dot(a,a))*sqrt(np.dot(b,b)))"
   ]
  },
  {
   "cell_type": "markdown",
   "metadata": {},
   "source": [
    "Let's look at the internal structure of the objects created, and think about how they relate to what we want. What I'm guessing is happening is that the Corpus is used to create a vector of words, and then the occurrence of words in the \"documents\" is tabulated by the program. Anyways, let's take it for a test drive using some of our ideas. First, let's look at what these things are actually producing!\n",
    "\n",
    "Consider this block of code, which grabs words out of the text (excluding numbers, which are actually quite prevalent in both texts. One reason for this, incidentally, is that page numbers are pulled in with text data. "
   ]
  },
  {
   "cell_type": "code",
   "execution_count": 30,
   "metadata": {
    "collapsed": false
   },
   "outputs": [],
   "source": [
    "WealthOfNationsClean=re.findall('[a-z]+',WealthOfNations.lower())\n",
    "PrinciplesRicardoClean=re.findall('[a-z]+',PrinciplesRicardo.lower())"
   ]
  },
  {
   "cell_type": "code",
   "execution_count": 32,
   "metadata": {
    "collapsed": false
   },
   "outputs": [],
   "source": [
    "Combined=[]\n",
    "Combined.append(WealthOfNationsClean)\n",
    "Combined.append(PrinciplesRicardoClean)\n",
    "\n",
    "# A final block of code is needed so that we aren't left with a list of lists, but instead\n",
    "# have one big list with both sources. \n",
    "Combined = list(itertools.chain.from_iterable(Combined))\n"
   ]
  },
  {
   "cell_type": "code",
   "execution_count": 33,
   "metadata": {
    "collapsed": false
   },
   "outputs": [],
   "source": [
    "# This method is a little bit more delicate than our vocab counter, as it doesn't have numbers, punctuation, etc. in it. \n",
    "# Accordingly, we might redifine a lexical diversity measure to use ..Clean and the getUniqueWords method.\n",
    "\n",
    "def getUniqueWords(allWords) :\n",
    "    uniqueWords = [] \n",
    "    for i in allWords:\n",
    "        if not i in uniqueWords:\n",
    "            uniqueWords.append(i)\n",
    "    return uniqueWords\n",
    "\n",
    "def LexDiverse(wordlist):\n",
    "    return len(getUniqueWords(wordlist))/len(wordlist)"
   ]
  },
  {
   "cell_type": "code",
   "execution_count": 34,
   "metadata": {
    "collapsed": false
   },
   "outputs": [
    {
     "data": {
      "text/plain": [
       "0.025040038774392044"
      ]
     },
     "execution_count": 34,
     "metadata": {},
     "output_type": "execute_result"
    }
   ],
   "source": [
    "LexDiverse(WealthOfNationsClean)"
   ]
  },
  {
   "cell_type": "markdown",
   "metadata": {},
   "source": [
    "To write a little bit in markup, we now have a means of creating a combined Corpus. What we want to do now is \"vectorize\"\n",
    "our two texts. What this amounts to doing is:\n",
    "\n",
    "1. Comparing each text to the master list. This will require a vector where each entry is a word that occurs in the master list. Once we have a master list, we can pick out just the unique elements in the list. \n",
    "2. Once the text has been vectorized, we can then use the cosine measure as a way of calculating the similarity between the two texts. \n",
    "\n"
   ]
  },
  {
   "cell_type": "code",
   "execution_count": 35,
   "metadata": {
    "collapsed": false
   },
   "outputs": [
    {
     "data": {
      "text/plain": [
       "['an',\n",
       " 'inquiry',\n",
       " 'into',\n",
       " 'the',\n",
       " 'nature',\n",
       " 'and',\n",
       " 'causes',\n",
       " 'of',\n",
       " 'the',\n",
       " 'wealth',\n",
       " 'of',\n",
       " 'nations',\n",
       " 'by',\n",
       " 'adam',\n",
       " 'smith',\n",
       " 'introduction',\n",
       " 'and',\n",
       " 'plan',\n",
       " 'of',\n",
       " 'the',\n",
       " 'work',\n",
       " 'the',\n",
       " 'annual',\n",
       " 'labour',\n",
       " 'of']"
      ]
     },
     "execution_count": 35,
     "metadata": {},
     "output_type": "execute_result"
    }
   ],
   "source": [
    "Combined[:25]"
   ]
  },
  {
   "cell_type": "code",
   "execution_count": 36,
   "metadata": {
    "collapsed": false
   },
   "outputs": [],
   "source": [
    "# This causes a lot of problems because it has so many \"stop words\"...clean them out!\n",
    "CombinedCorp=[word for word in set(Combined) if word not in stopwords.words('english')]\n",
    "# Gotta love the way you can pile on the commands in one line in Python!\n",
    "\n",
    "WONVec=[WealthOfNationsClean.count(word) for word in CombinedCorp]\n",
    "PRVec=[PrinciplesRicardoClean.count(word) for word in CombinedCorp]"
   ]
  },
  {
   "cell_type": "code",
   "execution_count": 37,
   "metadata": {
    "collapsed": false
   },
   "outputs": [
    {
     "data": {
      "text/plain": [
       "(10292, 10292)"
      ]
     },
     "execution_count": 37,
     "metadata": {},
     "output_type": "execute_result"
    }
   ],
   "source": [
    "len(WONVec),len(PRVec)"
   ]
  },
  {
   "cell_type": "code",
   "execution_count": 40,
   "metadata": {
    "collapsed": false
   },
   "outputs": [
    {
     "data": {
      "text/plain": [
       "0.67720136846738321"
      ]
     },
     "execution_count": 40,
     "metadata": {},
     "output_type": "execute_result"
    }
   ],
   "source": [
    "cosine_sim(WONVec,PRVec)"
   ]
  },
  {
   "cell_type": "code",
   "execution_count": 44,
   "metadata": {
    "collapsed": false
   },
   "outputs": [
    {
     "name": "stdout",
     "output_type": "stream",
     "text": [
      "432\n",
      "[('prevent', 61, 26), ('excess', 21, 26), ('life', 134, 30), ('considerable', 291, 28), ('increases', 73, 28), ('importance', 56, 25), ('fallen', 37, 22), ('cheaper', 123, 25), ('cent', 247, 201), ('riches', 43, 63), ('taxes', 310, 182), ('since', 104, 32), ('two', 621, 120), ('landlord', 163, 141), ('employment', 233, 92), ('place', 241, 69), ('taxed', 89, 52), ('cannot', 229, 110), ('occasion', 229, 35), ('circumstances', 145, 70), ('lands', 167, 38), ('wants', 30, 22), ('people', 778, 59), ('quantity', 797, 531), ('thing', 123, 47), ('machinery', 27, 67), ('whether', 97, 113), ('manufacturer', 42, 77), ('p', 29, 43), ('society', 343, 85), ('pay', 328, 168), ('powers', 33, 32), ('ii', 67, 22), ('far', 220, 46), ('towards', 124, 21), ('regulate', 35, 24), ('precious', 68, 41), ('manufactured', 46, 54), ('say', 59, 103), ('increasing', 94, 61)]\n"
     ]
    }
   ],
   "source": [
    "# An interesting result - which words are appearing multiple times?\n",
    "MultList=[]\n",
    "for i in range(0,len(CombinedCorp)):\n",
    "    if WONVec[i]>20 and PRVec[i]>20:\n",
    "        MultList.append((CombinedCorp[i],WONVec[i],PRVec[i]))\n",
    "\n",
    "# How long is that list? \n",
    "print(len(MultList))\n",
    "print(MultList[:40])"
   ]
  },
  {
   "cell_type": "markdown",
   "metadata": {},
   "source": [
    "So it is not enormously insightful...in any case, it is perhaps better to move on to the next thing now. Let's start setting up a corpus of a group of economics texts. [A supporting notebook](PDFs.ipynb) details how one can read in a pdf-type document and translate it into text. We will do this [in a new notebook](EconCorpus.ipynb)."
   ]
  },
  {
   "cell_type": "code",
   "execution_count": null,
   "metadata": {
    "collapsed": true
   },
   "outputs": [],
   "source": []
  }
 ],
 "metadata": {
  "kernelspec": {
   "display_name": "Python 3",
   "language": "python",
   "name": "python3"
  },
  "language_info": {
   "codemirror_mode": {
    "name": "ipython",
    "version": 3
   },
   "file_extension": ".py",
   "mimetype": "text/x-python",
   "name": "python",
   "nbconvert_exporter": "python",
   "pygments_lexer": "ipython3",
   "version": "3.4.3"
  }
 },
 "nbformat": 4,
 "nbformat_minor": 0
}
