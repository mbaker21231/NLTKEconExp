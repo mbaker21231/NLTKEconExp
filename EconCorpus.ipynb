{
 "cells": [
  {
   "cell_type": "markdown",
   "metadata": {},
   "source": [
    "# Creating a sample Corpus and Analyzing it\n",
    "In this notebook, the goal is to create a corpus from a group of classic economics texts. So, the first thing to do is to get some classic texts and download them to files in our on-site repository here, which we have called, simply, texts. \n",
    "\n",
    "I chose the following 10 economics books (based on interest and availability):\n",
    "1. [*Wealth of Nations*](http://www.gutenberg.org/ebooks/3300), Adam Smith\n",
    "2. [*Principles of Political Economy*](http://www.gutenberg.org/ebooks/33310), David Ricardo\n",
    "3. [*Principles of Political Economy*](http://lf-oll.s3.amazonaws.com/titles/2188/Malthus_1462_EBk_v6.0.pdf), Thomas Malthus\n",
    "4. [*An Essay on the Nature of Commerce in General*](http://lf-oll.s3.amazonaws.com/titles/285/Cantillon_0039_EBk_v6.0.pdf), Richard Cantillon\n",
    "5. [*Reflections on the Formation and Distribution of Wealth*](http://oll.libertyfund.org/titles/turgot-reflections-on-the-formation-and-distribution-of-riches), M. Turgot\n",
    "6. [*An Inquiry into the Principles of Political Economy*](http://livros01.livrosgratis.com.br/mc000259.pdf), James Stueart\n",
    "7. [*England's Treasure by Forraign Trade*](https://archive.org/details/englandstre00muntuoft), Thomas Mun\n",
    "8. [*A Treatise on Political Economy*](https://mises.org/library/treatise-political-economy), Jean-Baptiste Say\n",
    "9. [*An Outline of the Science Of Political Economy*](), Nassau Senior\n",
    "10. [*Principles of Political Economy*](http://www.gutenberg.org/files/30107/30107-pdf.pdf), John Stuart Mill\n",
    "\n",
    "I downloaded each of the above books (in text format if possible) and placed them in the local directory - once again, if someone wants to follow my work, they should do the same, as I don't want to chew up all the ```github``` memory! First, let's import all the necessary stuff we need. If anything isn't working, it is a good idea to take a look at the [the previous notebook](NLTKTest.ipynb) to see what could be missing or going wrong. "
   ]
  },
  {
   "cell_type": "code",
   "execution_count": 32,
   "metadata": {
    "collapsed": true
   },
   "outputs": [],
   "source": [
    "import re\n",
    "import itertools\n",
    "import collections\n",
    "import nltk\n",
    "import urllib3\n",
    "import unicodedata\n",
    "import numpy as np\n",
    "from pylab import rcParams\n",
    "from nltk.corpus import stopwords\n",
    "from math import sqrt                 # Thanks to Jonathan for reminding me to include this!\n",
    "from pdfminer.pdfinterp import PDFResourceManager, PDFPageInterpreter\n",
    "from pdfminer.converter import TextConverter\n",
    "from pdfminer.layout import LAParams\n",
    "from pdfminer.pdfpage import PDFPage\n",
    "from io import StringIO\n",
    "\n",
    "# Import my purpose-built pdf reader\n",
    "import pdf2textConverter\n",
    "\n",
    "# Also import os package so we can check for files \n",
    "import os"
   ]
  },
  {
   "cell_type": "code",
   "execution_count": 33,
   "metadata": {
    "collapsed": false
   },
   "outputs": [
    {
     "data": {
      "text/plain": [
       "['EETRC.pdf',\n",
       " 'ETFTTM.txt',\n",
       " 'IPPEJS.txt',\n",
       " 'MalthusPrinciples.pdf',\n",
       " 'OSPENS.pdf',\n",
       " 'pdf2textConverter.py',\n",
       " 'PPEDR.txt',\n",
       " 'PPEDRedit.txt',\n",
       " 'PPEJSM.pdf',\n",
       " 'PPETM.pdf',\n",
       " 'PPETMedit.txt',\n",
       " 'RPWMT.txt',\n",
       " 'TPEJBS.pdf',\n",
       " 'WONAS.txt',\n",
       " 'WONASedit.txt']"
      ]
     },
     "execution_count": 33,
     "metadata": {},
     "output_type": "execute_result"
    }
   ],
   "source": [
    "if os.path.isdir('.\\\\Texts'): os.chdir('.\\\\Texts') #Set to Texts if we aren't already there\n",
    "os.listdir()"
   ]
  },
  {
   "cell_type": "markdown",
   "metadata": {},
   "source": [
    "Abbreviations are about as expected - abbreviation for the work, and then the author's initials. Let's take them one by one and get them ready. Each book has to be opened, boiler plate at beginning and end eliminated, and then saved as a text file, just to keep things simple. I'll then save everything as a combined corpus (with no stopwords, I guess) that can be used for analysis."
   ]
  },
  {
   "cell_type": "code",
   "execution_count": 34,
   "metadata": {
    "collapsed": false
   },
   "outputs": [
    {
     "name": "stdout",
     "output_type": "stream",
     "text": [
      "File already present\n"
     ]
    }
   ],
   "source": [
    "# WEALTH OF NATIONS - Adam Smith\n",
    "\n",
    "# Save edited version if not already there:\n",
    "if os.path.isfile('WONASedit.txt'):\n",
    "    print(\"File already present\")\n",
    "else:\n",
    "    WONAS=open('WONAS.txt','r').read()\n",
    "    start=WONAS.find(\"AN INQUIRY\")\n",
    "    end=WONAS.find(\"END OF THIS PROJECT GUTENBERG\")\n",
    "    WONAS=WONAS[start:end]    \n",
    "    print(WONAS[:1000])\n",
    "    target = open('WONASedit.txt', 'w')\n",
    "    target.write(WONAS)\n",
    "    target.close()"
   ]
  },
  {
   "cell_type": "code",
   "execution_count": 35,
   "metadata": {
    "collapsed": false
   },
   "outputs": [
    {
     "name": "stdout",
     "output_type": "stream",
     "text": [
      "File already present\n"
     ]
    }
   ],
   "source": [
    "# PRINCIPLES OF POLITICAL ECONOMY - David Ricardo\n",
    "\n",
    "# Save edited version if not already there:\n",
    "if os.path.isfile('PPEDRedit.txt'):\n",
    "    print(\"File already present\")\n",
    "else:\n",
    "    PPEDR=open('PPEDR.txt','r').read()\n",
    "    start=PPEDR.find(\"THE PRINCIPLES\")\n",
    "    end=PPEDR.find(\"END OF THIS PROJECT GUTENBERG\")\n",
    "    PPEDR=PPEDR[start:end]\n",
    "    print(PPEDR[:1000])    \n",
    "    target = open('PPEDRedit.txt', 'w')\n",
    "    target.write(PPEDR)\n",
    "    target.close()"
   ]
  },
  {
   "cell_type": "markdown",
   "metadata": {},
   "source": [
    "For some reason, I couldn't get my packaged version going, so I'm going to have to just rewrite the function here:\n"
   ]
  },
  {
   "cell_type": "code",
   "execution_count": 36,
   "metadata": {
    "collapsed": true
   },
   "outputs": [],
   "source": [
    "def pdf2textConverter(path):\n",
    "    rsrcmgr = PDFResourceManager()\n",
    "    retstr = StringIO()\n",
    "    codec = 'utf-8'\n",
    "    laparams = LAParams()\n",
    "    device = TextConverter(rsrcmgr, retstr, codec=codec, laparams=laparams)\n",
    "    fp = open(path, 'rb')                                                       #Had to change this line as it had deprecated \"file\" command\n",
    "    interpreter = PDFPageInterpreter(rsrcmgr, device)\n",
    "    password = \"\"\n",
    "    maxpages = 0\n",
    "    caching = True\n",
    "    pagenos=set()\n",
    "\n",
    "    for page in PDFPage.get_pages(fp, pagenos, maxpages=maxpages, password=password,caching=caching, check_extractable=True):\n",
    "        interpreter.process_page(page)\n",
    "\n",
    "    text = retstr.getvalue()\n",
    "\n",
    "    fp.close()\n",
    "    device.close()\n",
    "    retstr.close()\n",
    "    return text"
   ]
  },
  {
   "cell_type": "code",
   "execution_count": 37,
   "metadata": {
    "collapsed": false
   },
   "outputs": [
    {
     "name": "stdout",
     "output_type": "stream",
     "text": [
      "File already present\n"
     ]
    }
   ],
   "source": [
    "# PRINCIPLES OF POLITICAL ECONOMY - Thomas Malthus\n",
    "\n",
    "if os.path.isfile('PPETMedit.txt'):\n",
    "    print(\"File already present\")\n",
    "else:\n",
    "    PPETM=pdf2textConverter('PPETM.pdf')\n",
    "    start=PPETM.find(\"Memoir of Robert Malthus\")\n",
    "    end=PPETM.find(\"can only obtain it by charity.\")+len(\"can only obtain it by charity\")+1\n",
    "    PPETM=PPETM[start:end]   \n",
    "    PPETM=unicodedata.normalize('NFKD', PPETM).encode('ascii','ignore')\n",
    "    target = open('PPETMedit.txt', 'w')   \n",
    "    target.write(PPETM.decode())\n",
    "    target.close()"
   ]
  },
  {
   "cell_type": "markdown",
   "metadata": {
    "collapsed": false,
    "scrolled": false
   },
   "source": [
    "Note that there are a few additional gyrations in the above because Malthus was an interpreted pdf. It turns out that the typical pdf needs to be stripped down a bit because of wingdings present in translation. So, we first translate it into bytes, ignoring crappy characters, and then re-encode while writing the file. \n",
    "\n",
    "Also note that we encountered a bit of a hiccup with the first download of Cantillon - it turned out that the pdf files from the [Von Mises Website Library](http://mises.org) don't play very nicely with my program!"
   ]
  },
  {
   "cell_type": "code",
   "execution_count": 63,
   "metadata": {
    "collapsed": false
   },
   "outputs": [
    {
     "name": "stdout",
     "output_type": "stream",
     "text": [
      "File already present\n"
     ]
    }
   ],
   "source": [
    "# ESSAYS ON THE NATURE OF COMMERCE IN GENERAL - Richard Cantillon\n",
    "if os.path.isfile('EETRCedit.txt'):\n",
    "    print(\"File already present\")\n",
    "else:\n",
    "    EETRC=pdf2textConverter('EETRC.pdf')\n",
    "    start=EETRC.find(\"ESSAY ON THE NATURE OF TRADE IN GENERAL\")\n",
    "    end=EETRC.find(\"Richard Cantillon And The Nationality Of Political Economy\")\n",
    "    EETRC=EETRC[start:end]   \n",
    "    EETRC=unicodedata.normalize('NFKD', EETRC).encode('ascii','ignore')\n",
    "    target = open('EETRCedit.txt', 'w')   \n",
    "    target.write(EETRC.decode())\n",
    "    target.close()\n",
    "\n",
    "# In passing note that some additional cleaning is needed:\n",
    "#   1. Get rid of URL's throughout\n",
    "#   2. Get rid of references to online library of liberty\n",
    "#   3. Get rid of constant [RETURN TO TABLE OF CONTENTS] type stuff. \n",
    "#   4. There may be more!"
   ]
  },
  {
   "cell_type": "code",
   "execution_count": 70,
   "metadata": {
    "collapsed": true
   },
   "outputs": [],
   "source": [
    "# REFLECTIONS ON WEALTH - M. Turgot \n",
    "if os.path.isfile('RFWMTedit.txt'):\n",
    "    print(\"File already present\")\n",
    "else:\n",
    "    RFWMT=pdf2textConverter('RFWMT.pdf')\n",
    "    start=RFWMT.find(\"Table of Contents\")\n",
    "    end=len(RFWMT)+1\n",
    "    RFWMT=RFWMT[start:end]   \n",
    "    RFWMT=unicodedata.normalize('NFKD', RFWMT).encode('ascii','ignore')\n",
    "    target = open('RFWMTedit.txt', 'w')   \n",
    "    target.write(RFWMT.decode())\n",
    "    target.close()\n"
   ]
  },
  {
   "cell_type": "code",
   "execution_count": 80,
   "metadata": {
    "collapsed": false
   },
   "outputs": [],
   "source": [
    "# INQUIRY INTO THE PRINCIPLES OF POLITICAL ECONOMY - James Stueart\n",
    "if os.path.isfile('IPPEJSedit.txt'):\n",
    "    print(\"File already present\")\n",
    "else:\n",
    "    IPPEJS=pdf2textConverter('IPPEJS.pdf')\n",
    "    target = open('IPPEJSedit.txt', 'w')   \n",
    "    target.write(IPPEJS)\n",
    "    target.close()"
   ]
  }
 ],
 "metadata": {
  "kernelspec": {
   "display_name": "Python 3",
   "language": "python",
   "name": "python3"
  },
  "language_info": {
   "codemirror_mode": {
    "name": "ipython",
    "version": 3
   },
   "file_extension": ".py",
   "mimetype": "text/x-python",
   "name": "python",
   "nbconvert_exporter": "python",
   "pygments_lexer": "ipython3",
   "version": "3.4.3"
  }
 },
 "nbformat": 4,
 "nbformat_minor": 0
}
