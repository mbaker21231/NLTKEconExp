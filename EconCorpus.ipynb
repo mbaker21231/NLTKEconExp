{
 "cells": [
  {
   "cell_type": "markdown",
   "metadata": {},
   "source": [
    "# Creating a sample Corpus and Analyzing it\n",
    "In this notebook, the goal is to create a corpus from a group of classic economics texts. So, the first thing to do is to get some classic texts and download them to files in our on-site repository here, which we have called, simply, texts. \n",
    "\n",
    "I chose the following 10 economics books (based on interest and availability):\n",
    "1. [*Wealth of Nations*](http://www.gutenberg.org/ebooks/3300), Adam Smith\n",
    "2. [*Principles of Political Economy*](http://www.gutenberg.org/ebooks/33310), David Ricardo\n",
    "3. [*Principles of Political Economy*](http://lf-oll.s3.amazonaws.com/titles/2188/Malthus_1462_EBk_v6.0.pdf), Thomas Malthus\n",
    "4. [*An Essay on the Nature of Commerce in General*](http://lf-oll.s3.amazonaws.com/titles/285/Cantillon_0039_EBk_v6.0.pdf), Richard Cantillon\n",
    "5. [*Reflections on the Formation and Distribution of Wealth*](http://oll.libertyfund.org/titles/turgot-reflections-on-the-formation-and-distribution-of-riches), M. Turgot\n",
    "6. [*An Inquiry into the Principles of Political Economy*](http://livros01.livrosgratis.com.br/mc000259.pdf), James Stueart\n",
    "7. [*England's Treasure by Forraign Trade*](https://archive.org/details/englandstre00muntuoft), Thomas Mun\n",
    "8. [*A Treatise on Political Economy*](https://mises.org/library/treatise-political-economy), Jean-Baptiste Say\n",
    "9. [*An Outline of the Science Of Political Economy*](), Nassau Senior\n",
    "10. [*Principles of Political Economy*](http://www.gutenberg.org/files/30107/30107-pdf.pdf), John Stuart Mill\n",
    "\n",
    "I downloaded each of the above books (in text format if possible) and placed them in the local directory - once again, if someone wants to follow my work, they should do the same, as I don't want to chew up all the ```github``` memory! First, let's import all the necessary stuff we need. If anything isn't working, it is a good idea to take a look at the [the previous notebook](NLTKTest.ipynb) to see what could be missing or going wrong. "
   ]
  },
  {
   "cell_type": "code",
   "execution_count": 1,
   "metadata": {},
   "outputs": [],
   "source": [
    "import re\n",
    "import itertools\n",
    "import collections\n",
    "import nltk\n",
    "import urllib3\n",
    "import unicodedata\n",
    "import numpy as np\n",
    "from pylab import rcParams\n",
    "from nltk.corpus import stopwords\n",
    "from math import sqrt                 # Thanks to Jonathan for reminding me to include this!\n",
    "#from pdfminer.pdfinterp import PDFResourceManager, PDFPageInterpreter\n",
    "#from pdfminer.converter import TextConverter\n",
    "#from pdfminer.layout import LAParams\n",
    "#from pdfminer.pdfpage import PDFPage\n",
    "from io import StringIO\n",
    "\n",
    "# Import my purpose-built pdf reader\n",
    "import pdf2textConverter\n",
    "\n",
    "# Also import os package so we can check for files \n",
    "import os"
   ]
  },
  {
   "cell_type": "code",
   "execution_count": 2,
   "metadata": {},
   "outputs": [
    {
     "data": {
      "text/plain": [
       "['EETRC.pdf',\n",
       " 'MalthusPrinciples.pdf',\n",
       " 'OSPENS.pdf',\n",
       " 'pdf2textConverter.py',\n",
       " 'PPEJSM.pdf',\n",
       " 'PPETM.pdf',\n",
       " 'TPEJBS.pdf']"
      ]
     },
     "execution_count": 2,
     "metadata": {},
     "output_type": "execute_result"
    }
   ],
   "source": [
    "if os.path.isdir('.\\\\Texts'): os.chdir('.\\\\Texts') #Set to Texts if we aren't already there\n",
    "os.listdir()"
   ]
  },
  {
   "cell_type": "markdown",
   "metadata": {},
   "source": [
    "Abbreviations are about as expected - abbreviation for the work, and then the author's initials. Let's take them one by one and get them ready. Each book has to be opened, boiler plate at beginning and end eliminated, and then saved as a text file, just to keep things simple. I'll then save everything as a combined corpus (with no stopwords, I guess) that can be used for analysis."
   ]
  },
  {
   "cell_type": "code",
   "execution_count": 3,
   "metadata": {},
   "outputs": [
    {
     "ename": "FileNotFoundError",
     "evalue": "[Errno 2] No such file or directory: 'WONAS.txt'",
     "output_type": "error",
     "traceback": [
      "\u001b[1;31m---------------------------------------------------------------------------\u001b[0m",
      "\u001b[1;31mFileNotFoundError\u001b[0m                         Traceback (most recent call last)",
      "Cell \u001b[1;32mIn[3], line 7\u001b[0m\n\u001b[0;32m      5\u001b[0m     \u001b[38;5;28mprint\u001b[39m(\u001b[38;5;124m\"\u001b[39m\u001b[38;5;124mFile already present\u001b[39m\u001b[38;5;124m\"\u001b[39m)\n\u001b[0;32m      6\u001b[0m \u001b[38;5;28;01melse\u001b[39;00m:\n\u001b[1;32m----> 7\u001b[0m     WONAS\u001b[38;5;241m=\u001b[39m\u001b[38;5;28;43mopen\u001b[39;49m\u001b[43m(\u001b[49m\u001b[38;5;124;43m'\u001b[39;49m\u001b[38;5;124;43mWONAS.txt\u001b[39;49m\u001b[38;5;124;43m'\u001b[39;49m\u001b[43m,\u001b[49m\u001b[38;5;124;43m'\u001b[39;49m\u001b[38;5;124;43mr\u001b[39;49m\u001b[38;5;124;43m'\u001b[39;49m\u001b[43m)\u001b[49m\u001b[38;5;241m.\u001b[39mread()\n\u001b[0;32m      8\u001b[0m     start\u001b[38;5;241m=\u001b[39mWONAS\u001b[38;5;241m.\u001b[39mfind(\u001b[38;5;124m\"\u001b[39m\u001b[38;5;124mAN INQUIRY\u001b[39m\u001b[38;5;124m\"\u001b[39m)\n\u001b[0;32m      9\u001b[0m     end\u001b[38;5;241m=\u001b[39mWONAS\u001b[38;5;241m.\u001b[39mfind(\u001b[38;5;124m\"\u001b[39m\u001b[38;5;124mEND OF THIS PROJECT GUTENBERG\u001b[39m\u001b[38;5;124m\"\u001b[39m)\n",
      "File \u001b[1;32m~\\AppData\\Local\\anaconda3\\Lib\\site-packages\\IPython\\core\\interactiveshell.py:324\u001b[0m, in \u001b[0;36m_modified_open\u001b[1;34m(file, *args, **kwargs)\u001b[0m\n\u001b[0;32m    317\u001b[0m \u001b[38;5;28;01mif\u001b[39;00m file \u001b[38;5;129;01min\u001b[39;00m {\u001b[38;5;241m0\u001b[39m, \u001b[38;5;241m1\u001b[39m, \u001b[38;5;241m2\u001b[39m}:\n\u001b[0;32m    318\u001b[0m     \u001b[38;5;28;01mraise\u001b[39;00m \u001b[38;5;167;01mValueError\u001b[39;00m(\n\u001b[0;32m    319\u001b[0m         \u001b[38;5;124mf\u001b[39m\u001b[38;5;124m\"\u001b[39m\u001b[38;5;124mIPython won\u001b[39m\u001b[38;5;124m'\u001b[39m\u001b[38;5;124mt let you open fd=\u001b[39m\u001b[38;5;132;01m{\u001b[39;00mfile\u001b[38;5;132;01m}\u001b[39;00m\u001b[38;5;124m by default \u001b[39m\u001b[38;5;124m\"\u001b[39m\n\u001b[0;32m    320\u001b[0m         \u001b[38;5;124m\"\u001b[39m\u001b[38;5;124mas it is likely to crash IPython. If you know what you are doing, \u001b[39m\u001b[38;5;124m\"\u001b[39m\n\u001b[0;32m    321\u001b[0m         \u001b[38;5;124m\"\u001b[39m\u001b[38;5;124myou can use builtins\u001b[39m\u001b[38;5;124m'\u001b[39m\u001b[38;5;124m open.\u001b[39m\u001b[38;5;124m\"\u001b[39m\n\u001b[0;32m    322\u001b[0m     )\n\u001b[1;32m--> 324\u001b[0m \u001b[38;5;28;01mreturn\u001b[39;00m \u001b[43mio_open\u001b[49m\u001b[43m(\u001b[49m\u001b[43mfile\u001b[49m\u001b[43m,\u001b[49m\u001b[43m \u001b[49m\u001b[38;5;241;43m*\u001b[39;49m\u001b[43margs\u001b[49m\u001b[43m,\u001b[49m\u001b[43m \u001b[49m\u001b[38;5;241;43m*\u001b[39;49m\u001b[38;5;241;43m*\u001b[39;49m\u001b[43mkwargs\u001b[49m\u001b[43m)\u001b[49m\n",
      "\u001b[1;31mFileNotFoundError\u001b[0m: [Errno 2] No such file or directory: 'WONAS.txt'"
     ]
    }
   ],
   "source": [
    "# WEALTH OF NATIONS - Adam Smith\n",
    "\n",
    "# Save edited version if not already there:\n",
    "if os.path.isfile('WONASedit.txt'):\n",
    "    print(\"File already present\")\n",
    "else:\n",
    "    WONAS=open('WONAS.txt','r').read()\n",
    "    start=WONAS.find(\"AN INQUIRY\")\n",
    "    end=WONAS.find(\"END OF THIS PROJECT GUTENBERG\")\n",
    "    WONAS=WONAS[start:end]    \n",
    "    print(WONAS[:1000])\n",
    "    target = open('WONASedit.txt', 'w')\n",
    "    target.write(WONAS)\n",
    "    target.close()"
   ]
  },
  {
   "cell_type": "code",
   "execution_count": 35,
   "metadata": {},
   "outputs": [
    {
     "name": "stdout",
     "output_type": "stream",
     "text": [
      "File already present\n"
     ]
    }
   ],
   "source": [
    "# PRINCIPLES OF POLITICAL ECONOMY - David Ricardo\n",
    "\n",
    "# Save edited version if not already there:\n",
    "if os.path.isfile('PPEDRedit.txt'):\n",
    "    print(\"File already present\")\n",
    "else:\n",
    "    PPEDR=open('PPEDR.txt','r').read()\n",
    "    start=PPEDR.find(\"THE PRINCIPLES\")\n",
    "    end=PPEDR.find(\"END OF THIS PROJECT GUTENBERG\")\n",
    "    PPEDR=PPEDR[start:end]\n",
    "    print(PPEDR[:1000])    \n",
    "    target = open('PPEDRedit.txt', 'w')\n",
    "    target.write(PPEDR)\n",
    "    target.close()"
   ]
  },
  {
   "cell_type": "markdown",
   "metadata": {},
   "source": [
    "For some reason, I couldn't get my packaged version going, so I'm going to have to just rewrite the function here:\n"
   ]
  },
  {
   "cell_type": "code",
   "execution_count": 36,
   "metadata": {
    "collapsed": true,
    "jupyter": {
     "outputs_hidden": true
    }
   },
   "outputs": [],
   "source": [
    "def pdf2textConverter(path):\n",
    "    rsrcmgr = PDFResourceManager()\n",
    "    retstr = StringIO()\n",
    "    codec = 'utf-8'\n",
    "    laparams = LAParams()\n",
    "    device = TextConverter(rsrcmgr, retstr, codec=codec, laparams=laparams)\n",
    "    fp = open(path, 'rb')                                                       #Had to change this line as it had deprecated \"file\" command\n",
    "    interpreter = PDFPageInterpreter(rsrcmgr, device)\n",
    "    password = \"\"\n",
    "    maxpages = 0\n",
    "    caching = True\n",
    "    pagenos=set()\n",
    "\n",
    "    for page in PDFPage.get_pages(fp, pagenos, maxpages=maxpages, password=password,caching=caching, check_extractable=True):\n",
    "        interpreter.process_page(page)\n",
    "\n",
    "    text = retstr.getvalue()\n",
    "\n",
    "    fp.close()\n",
    "    device.close()\n",
    "    retstr.close()\n",
    "    return text"
   ]
  },
  {
   "cell_type": "code",
   "execution_count": 5,
   "metadata": {},
   "outputs": [
    {
     "ename": "TypeError",
     "evalue": "'module' object is not callable",
     "output_type": "error",
     "traceback": [
      "\u001b[1;31m---------------------------------------------------------------------------\u001b[0m",
      "\u001b[1;31mTypeError\u001b[0m                                 Traceback (most recent call last)",
      "\u001b[1;32m<ipython-input-5-708b75dd5d79>\u001b[0m in \u001b[0;36m<module>\u001b[1;34m\u001b[0m\n\u001b[0;32m      4\u001b[0m     \u001b[0mprint\u001b[0m\u001b[1;33m(\u001b[0m\u001b[1;34m\"File already present\"\u001b[0m\u001b[1;33m)\u001b[0m\u001b[1;33m\u001b[0m\u001b[1;33m\u001b[0m\u001b[0m\n\u001b[0;32m      5\u001b[0m \u001b[1;32melse\u001b[0m\u001b[1;33m:\u001b[0m\u001b[1;33m\u001b[0m\u001b[1;33m\u001b[0m\u001b[0m\n\u001b[1;32m----> 6\u001b[1;33m     \u001b[0mPPETM\u001b[0m\u001b[1;33m=\u001b[0m\u001b[0mpdf2textConverter\u001b[0m\u001b[1;33m(\u001b[0m\u001b[1;34m'PPETM.pdf'\u001b[0m\u001b[1;33m)\u001b[0m\u001b[1;33m\u001b[0m\u001b[1;33m\u001b[0m\u001b[0m\n\u001b[0m\u001b[0;32m      7\u001b[0m     \u001b[0mstart\u001b[0m\u001b[1;33m=\u001b[0m\u001b[0mPPETM\u001b[0m\u001b[1;33m.\u001b[0m\u001b[0mfind\u001b[0m\u001b[1;33m(\u001b[0m\u001b[1;34m\"Memoir of Robert Malthus\"\u001b[0m\u001b[1;33m)\u001b[0m\u001b[1;33m\u001b[0m\u001b[1;33m\u001b[0m\u001b[0m\n\u001b[0;32m      8\u001b[0m     \u001b[0mend\u001b[0m\u001b[1;33m=\u001b[0m\u001b[0mPPETM\u001b[0m\u001b[1;33m.\u001b[0m\u001b[0mfind\u001b[0m\u001b[1;33m(\u001b[0m\u001b[1;34m\"can only obtain it by charity.\"\u001b[0m\u001b[1;33m)\u001b[0m\u001b[1;33m+\u001b[0m\u001b[0mlen\u001b[0m\u001b[1;33m(\u001b[0m\u001b[1;34m\"can only obtain it by charity\"\u001b[0m\u001b[1;33m)\u001b[0m\u001b[1;33m+\u001b[0m\u001b[1;36m1\u001b[0m\u001b[1;33m\u001b[0m\u001b[1;33m\u001b[0m\u001b[0m\n",
      "\u001b[1;31mTypeError\u001b[0m: 'module' object is not callable"
     ]
    }
   ],
   "source": [
    "# PRINCIPLES OF POLITICAL ECONOMY - Thomas Malthus\n",
    "\n",
    "if os.path.isfile('PPETMedit.txt'):\n",
    "    print(\"File already present\")\n",
    "else:\n",
    "    PPETM=pdf2textConverter('PPETM.pdf')\n",
    "    start=PPETM.find(\"Memoir of Robert Malthus\")\n",
    "    end=PPETM.find(\"can only obtain it by charity.\")+len(\"can only obtain it by charity\")+1\n",
    "    PPETM=PPETM[start:end]   \n",
    "    PPETM=unicodedata.normalize('NFKD', PPETM).encode('ascii','ignore')\n",
    "    target = open('PPETMedit.txt', 'w')   \n",
    "    target.write(PPETM.decode())\n",
    "    target.close()"
   ]
  },
  {
   "cell_type": "markdown",
   "metadata": {
    "scrolled": false
   },
   "source": [
    "Note that there are a few additional gyrations in the above because Malthus was an interpreted pdf. It turns out that the typical pdf needs to be stripped down a bit because of wingdings present in translation. So, we first translate it into bytes, ignoring crappy characters, and then re-encode while writing the file. \n",
    "\n",
    "Also note that we encountered a bit of a hiccup with the first download of Cantillon - it turned out that the pdf files from the [Von Mises Website Library](http://mises.org) don't play very nicely with my program!"
   ]
  },
  {
   "cell_type": "code",
   "execution_count": 6,
   "metadata": {},
   "outputs": [
    {
     "ename": "TypeError",
     "evalue": "'module' object is not callable",
     "output_type": "error",
     "traceback": [
      "\u001b[1;31m---------------------------------------------------------------------------\u001b[0m",
      "\u001b[1;31mTypeError\u001b[0m                                 Traceback (most recent call last)",
      "\u001b[1;32m<ipython-input-6-745cfaed9b6d>\u001b[0m in \u001b[0;36m<module>\u001b[1;34m\u001b[0m\n\u001b[0;32m      3\u001b[0m     \u001b[0mprint\u001b[0m\u001b[1;33m(\u001b[0m\u001b[1;34m\"File already present\"\u001b[0m\u001b[1;33m)\u001b[0m\u001b[1;33m\u001b[0m\u001b[1;33m\u001b[0m\u001b[0m\n\u001b[0;32m      4\u001b[0m \u001b[1;32melse\u001b[0m\u001b[1;33m:\u001b[0m\u001b[1;33m\u001b[0m\u001b[1;33m\u001b[0m\u001b[0m\n\u001b[1;32m----> 5\u001b[1;33m     \u001b[0mEETRC\u001b[0m\u001b[1;33m=\u001b[0m\u001b[0mpdf2textConverter\u001b[0m\u001b[1;33m(\u001b[0m\u001b[1;34m'EETRC.pdf'\u001b[0m\u001b[1;33m)\u001b[0m\u001b[1;33m\u001b[0m\u001b[1;33m\u001b[0m\u001b[0m\n\u001b[0m\u001b[0;32m      6\u001b[0m     \u001b[0mstart\u001b[0m\u001b[1;33m=\u001b[0m\u001b[0mEETRC\u001b[0m\u001b[1;33m.\u001b[0m\u001b[0mfind\u001b[0m\u001b[1;33m(\u001b[0m\u001b[1;34m\"ESSAY ON THE NATURE OF TRADE IN GENERAL\"\u001b[0m\u001b[1;33m)\u001b[0m\u001b[1;33m\u001b[0m\u001b[1;33m\u001b[0m\u001b[0m\n\u001b[0;32m      7\u001b[0m     \u001b[0mend\u001b[0m\u001b[1;33m=\u001b[0m\u001b[0mEETRC\u001b[0m\u001b[1;33m.\u001b[0m\u001b[0mfind\u001b[0m\u001b[1;33m(\u001b[0m\u001b[1;34m\"Richard Cantillon And The Nationality Of Political Economy\"\u001b[0m\u001b[1;33m)\u001b[0m\u001b[1;33m\u001b[0m\u001b[1;33m\u001b[0m\u001b[0m\n",
      "\u001b[1;31mTypeError\u001b[0m: 'module' object is not callable"
     ]
    }
   ],
   "source": [
    "# ESSAYS ON THE NATURE OF COMMERCE IN GENERAL - Richard Cantillon\n",
    "if os.path.isfile('EETRCedit.txt'):\n",
    "    print(\"File already present\")\n",
    "else:\n",
    "    EETRC=pdf2textConverter('EETRC.pdf')\n",
    "    start=EETRC.find(\"ESSAY ON THE NATURE OF TRADE IN GENERAL\")\n",
    "    end=EETRC.find(\"Richard Cantillon And The Nationality Of Political Economy\")\n",
    "    EETRC=EETRC[start:end]   \n",
    "    EETRC=unicodedata.normalize('NFKD', EETRC).encode('ascii','ignore')\n",
    "    target = open('EETRCedit.txt', 'w')   \n",
    "    target.write(EETRC.decode())\n",
    "    target.close()\n",
    "\n",
    "# In passing note that some additional cleaning is needed:\n",
    "#   1. Get rid of URL's throughout\n",
    "#   2. Get rid of references to online library of liberty\n",
    "#   3. Get rid of constant [RETURN TO TABLE OF CONTENTS] type stuff. \n",
    "#   4. There may be more!"
   ]
  },
  {
   "cell_type": "code",
   "execution_count": 70,
   "metadata": {
    "collapsed": true,
    "jupyter": {
     "outputs_hidden": true
    }
   },
   "outputs": [],
   "source": [
    "# REFLECTIONS ON WEALTH - M. Turgot \n",
    "if os.path.isfile('RFWMTedit.txt'):\n",
    "    print(\"File already present\")\n",
    "else:\n",
    "    RFWMT=pdf2textConverter('RFWMT.pdf')\n",
    "    start=RFWMT.find(\"Table of Contents\")\n",
    "    end=len(RFWMT)+1\n",
    "    RFWMT=RFWMT[start:end]   \n",
    "    RFWMT=unicodedata.normalize('NFKD', RFWMT).encode('ascii','ignore')\n",
    "    target = open('RFWMTedit.txt', 'w')   \n",
    "    target.write(RFWMT.decode())\n",
    "    target.close()\n"
   ]
  },
  {
   "cell_type": "code",
   "execution_count": 80,
   "metadata": {},
   "outputs": [],
   "source": [
    "# INQUIRY INTO THE PRINCIPLES OF POLITICAL ECONOMY - James Stueart\n",
    "if os.path.isfile('IPPEJSedit.txt'):\n",
    "    print(\"File already present\")\n",
    "else:\n",
    "    IPPEJS=pdf2textConverter('IPPEJS.pdf')\n",
    "    target = open('IPPEJSedit.txt', 'w')   \n",
    "    target.write(IPPEJS)\n",
    "    target.close()"
   ]
  }
 ],
 "metadata": {
  "kernelspec": {
   "display_name": "Python 3 (ipykernel)",
   "language": "python",
   "name": "python3"
  },
  "language_info": {
   "codemirror_mode": {
    "name": "ipython",
    "version": 3
   },
   "file_extension": ".py",
   "mimetype": "text/x-python",
   "name": "python",
   "nbconvert_exporter": "python",
   "pygments_lexer": "ipython3",
   "version": "3.11.6"
  }
 },
 "nbformat": 4,
 "nbformat_minor": 4
}
